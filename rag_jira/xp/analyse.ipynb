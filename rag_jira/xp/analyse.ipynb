{
 "cells": [
  {
   "cell_type": "markdown",
   "metadata": {},
   "source": [
    "# Analyse du jeu de données TAWOS\n",
    "\n",
    "> 13 référentiels open source ont été extrait : Apache, Appcelerator, Atlassian, DNNSoftware, Hyperledger, Lsstcorp, Lyrasis DuraSpace, MongoDB, Moodle, MuleSoft, Spring, Sonatype et Talendforge.\n",
    "\n",
    "La plupart de ces référentiels ont été utilisés dans le cadre de travaux antérieurs et **tous utilisent Jira comme plateforme de gestion des problèmes**,\n",
    "ce qui garantit l'uniformité de la structure et la disponibilité des informations. Dans chacun de ces référentiels, des projets ont été sélectionnés de manière à ce qu'ils adoptent un développement itératif et une **gestion des problèmes**."
   ]
  },
  {
   "cell_type": "code",
   "execution_count": 1,
   "metadata": {},
   "outputs": [],
   "source": [
    "import os\n",
    "import csv\n",
    "import pandas as pd\n",
    "import numpy as np\n",
    "import matplotlib.pyplot as plt\n",
    "from matplotlib.gridspec import GridSpec\n",
    "from sqlalchemy import create_engine\n",
    "from dotenv import load_dotenv"
   ]
  },
  {
   "cell_type": "code",
   "execution_count": 2,
   "metadata": {},
   "outputs": [],
   "source": [
    "load_dotenv()\n",
    "\n",
    "# Informations de la base de données SQL contenant le jeux de données TAWOS\n",
    "user = os.getenv(\"DB_USER\")\n",
    "password = os.getenv(\"DB_PASSWORD\")\n",
    "host = os.getenv(\"DB_HOST\")\n",
    "port = os.getenv(\"DB_PORT\")\n",
    "database = os.getenv(\"DB_DATABASE\")"
   ]
  },
  {
   "cell_type": "markdown",
   "metadata": {},
   "source": [
    "## Connexion à la base de données SQL (TAWOS)"
   ]
  },
  {
   "cell_type": "code",
   "execution_count": 3,
   "metadata": {},
   "outputs": [],
   "source": [
    "engine = create_engine(\n",
    "    f\"mariadb+mysqldb://{user}:{password}@{host}:{port}/{database}\"\n",
    ")\n",
    "\n",
    "issue = pd.read_sql_table(\"Issue\", engine) # \"ID\", \"Title\", \"Description\", \"Status\", \"Resolution\", \"Last_Updated\"\n",
    "comment = pd.read_sql_table(\"Comment\", engine) # \"Issue_ID\", \"Comment\""
   ]
  },
  {
   "cell_type": "markdown",
   "metadata": {},
   "source": [
    "## Filtrage des issues provenant du projet MongoDB Core Server\n",
    "\n",
    "> ID : 33 <br>\n",
    "> Description : MongoDB Enterprise Server est l'édition commerciale de MongoDB, disponible dans le cadre de l'abonnement MongoDB Enterprise Advanced."
   ]
  },
  {
   "cell_type": "code",
   "execution_count": 7,
   "metadata": {},
   "outputs": [],
   "source": [
    "issue_mongodb = issue[issue['Project_ID'] == 33]"
   ]
  },
  {
   "cell_type": "markdown",
   "metadata": {},
   "source": [
    "## Analyse des Issues"
   ]
  },
  {
   "cell_type": "code",
   "execution_count": 8,
   "metadata": {},
   "outputs": [
    {
     "name": "stdout",
     "output_type": "stream",
     "text": [
      "Nombre d'issues : 48663\n",
      "Nombre de features dans la table 'Issue' : 30\n"
     ]
    }
   ],
   "source": [
    "print(f\"Nombre d'issues : {issue_mongodb.shape[0]}\")\n",
    "print(f\"Nombre de features dans la table 'Issue' : {issue_mongodb.shape[1]}\")"
   ]
  },
  {
   "cell_type": "markdown",
   "metadata": {},
   "source": [
    "### Type des issues"
   ]
  },
  {
   "cell_type": "code",
   "execution_count": 9,
   "metadata": {},
   "outputs": [
    {
     "data": {
      "text/plain": [
       "ID                                               int64\n",
       "Jira_ID                                          int64\n",
       "Issue_Key                                       object\n",
       "URL                                             object\n",
       "Title                                           object\n",
       "Description                                     object\n",
       "Description_Text                                object\n",
       "Description_Code                                object\n",
       "Type                                            object\n",
       "Priority                                        object\n",
       "Status                                          object\n",
       "Resolution                                      object\n",
       "Creation_Date                           datetime64[ns]\n",
       "Estimation_Date                         datetime64[ns]\n",
       "Resolution_Date                         datetime64[ns]\n",
       "Last_Updated                            datetime64[ns]\n",
       "Story_Point                                    float64\n",
       "Timespent                                      float64\n",
       "In_Progress_Minutes                            float64\n",
       "Total_Effort_Minutes                           float64\n",
       "Resolution_Time_Minutes                        float64\n",
       "Title_Changed_After_Estimation                   int64\n",
       "Description_Changed_After_Estimation             int64\n",
       "Story_Point_Changed_After_Estimation             int64\n",
       "Pull_Request_URL                                object\n",
       "Creator_ID                                     float64\n",
       "Reporter_ID                                    float64\n",
       "Assignee_ID                                    float64\n",
       "Project_ID                                       int64\n",
       "Sprint_ID                                      float64\n",
       "dtype: object"
      ]
     },
     "execution_count": 9,
     "metadata": {},
     "output_type": "execute_result"
    }
   ],
   "source": [
    "issue_mongodb.dtypes"
   ]
  },
  {
   "cell_type": "code",
   "execution_count": 10,
   "metadata": {},
   "outputs": [
    {
     "name": "stdout",
     "output_type": "stream",
     "text": [
      "(43838, 7)\n"
     ]
    },
    {
     "data": {
      "text/html": [
       "<div>\n",
       "<style scoped>\n",
       "    .dataframe tbody tr th:only-of-type {\n",
       "        vertical-align: middle;\n",
       "    }\n",
       "\n",
       "    .dataframe tbody tr th {\n",
       "        vertical-align: top;\n",
       "    }\n",
       "\n",
       "    .dataframe thead th {\n",
       "        text-align: right;\n",
       "    }\n",
       "</style>\n",
       "<table border=\"1\" class=\"dataframe\">\n",
       "  <thead>\n",
       "    <tr style=\"text-align: right;\">\n",
       "      <th></th>\n",
       "      <th>ID</th>\n",
       "      <th>Title</th>\n",
       "      <th>Description</th>\n",
       "      <th>Type</th>\n",
       "      <th>Status</th>\n",
       "      <th>Resolution</th>\n",
       "      <th>Last_Updated</th>\n",
       "    </tr>\n",
       "  </thead>\n",
       "  <tbody>\n",
       "    <tr>\n",
       "      <th>409585</th>\n",
       "      <td>460389</td>\n",
       "      <td>\"Architecture Guide updates for Close feature ...</td>\n",
       "      <td>\"Please investigate if this project requires c...</td>\n",
       "      <td>Task</td>\n",
       "      <td>Closed</td>\n",
       "      <td>Won't Fix</td>\n",
       "      <td>2020-10-21 14:30:27</td>\n",
       "    </tr>\n",
       "    <tr>\n",
       "      <th>409594</th>\n",
       "      <td>460398</td>\n",
       "      <td>\"libunwind fails to build with GCC &gt;=10.2\"</td>\n",
       "      <td>\"In the newer GCC version, C globals are now n...</td>\n",
       "      <td>Bug</td>\n",
       "      <td>Closed</td>\n",
       "      <td>Fixed</td>\n",
       "      <td>2020-10-21 02:03:04</td>\n",
       "    </tr>\n",
       "    <tr>\n",
       "      <th>409598</th>\n",
       "      <td>460402</td>\n",
       "      <td>\"Handle retryable writes in resharding oplog a...</td>\n",
       "      <td></td>\n",
       "      <td>Task</td>\n",
       "      <td>Closed</td>\n",
       "      <td>Duplicate</td>\n",
       "      <td>2020-10-20 17:56:52</td>\n",
       "    </tr>\n",
       "    <tr>\n",
       "      <th>409599</th>\n",
       "      <td>460403</td>\n",
       "      <td>\"Handle transactions in resharding oplog applier\"</td>\n",
       "      <td></td>\n",
       "      <td>Task</td>\n",
       "      <td>Closed</td>\n",
       "      <td>Duplicate</td>\n",
       "      <td>2020-10-20 17:56:47</td>\n",
       "    </tr>\n",
       "    <tr>\n",
       "      <th>409605</th>\n",
       "      <td>460409</td>\n",
       "      <td>\"Fix 3-way compare for ArraySet in SBE\"</td>\n",
       "      <td></td>\n",
       "      <td>Bug</td>\n",
       "      <td>Closed</td>\n",
       "      <td>Fixed</td>\n",
       "      <td>2020-10-21 07:29:02</td>\n",
       "    </tr>\n",
       "  </tbody>\n",
       "</table>\n",
       "</div>"
      ],
      "text/plain": [
       "            ID                                              Title  \\\n",
       "409585  460389  \"Architecture Guide updates for Close feature ...   \n",
       "409594  460398         \"libunwind fails to build with GCC >=10.2\"   \n",
       "409598  460402  \"Handle retryable writes in resharding oplog a...   \n",
       "409599  460403  \"Handle transactions in resharding oplog applier\"   \n",
       "409605  460409            \"Fix 3-way compare for ArraySet in SBE\"   \n",
       "\n",
       "                                              Description  Type  Status  \\\n",
       "409585  \"Please investigate if this project requires c...  Task  Closed   \n",
       "409594  \"In the newer GCC version, C globals are now n...   Bug  Closed   \n",
       "409598                                                     Task  Closed   \n",
       "409599                                                     Task  Closed   \n",
       "409605                                                      Bug  Closed   \n",
       "\n",
       "       Resolution        Last_Updated  \n",
       "409585  Won't Fix 2020-10-21 14:30:27  \n",
       "409594      Fixed 2020-10-21 02:03:04  \n",
       "409598  Duplicate 2020-10-20 17:56:52  \n",
       "409599  Duplicate 2020-10-20 17:56:47  \n",
       "409605      Fixed 2020-10-21 07:29:02  "
      ]
     },
     "execution_count": 10,
     "metadata": {},
     "output_type": "execute_result"
    }
   ],
   "source": [
    "issue_reduce = issue_mongodb[[\"ID\", \"Title\", \"Description\", \"Type\", \"Status\", \"Resolution\", \"Last_Updated\"]]\n",
    "issue_clean = issue_reduce.dropna()\n",
    "print(issue_clean.shape)\n",
    "issue_clean.head()"
   ]
  },
  {
   "cell_type": "code",
   "execution_count": 11,
   "metadata": {},
   "outputs": [
    {
     "data": {
      "text/plain": [
       "Type\n",
       "Bug            21456\n",
       "Task            9894\n",
       "Improvement     9148\n",
       "New Feature     2016\n",
       "Question        1324\n",
       "Name: count, dtype: int64"
      ]
     },
     "execution_count": 11,
     "metadata": {},
     "output_type": "execute_result"
    }
   ],
   "source": [
    "type_values = issue_clean[\"Type\"].value_counts()\n",
    "type_values"
   ]
  },
  {
   "cell_type": "code",
   "execution_count": 12,
   "metadata": {
    "scrolled": true
   },
   "outputs": [
    {
     "data": {
      "image/png": "[encoded data removed]",
      "text/plain": [
       "<Figure size 1200x800 with 2 Axes>"
      ]
     },
     "metadata": {},
     "output_type": "display_data"
    }
   ],
   "source": [
    "fig = plt.figure(figsize=(12, 8))\n",
    "gs = GridSpec(1, 2, width_ratios=[1, 1])\n",
    "\n",
    "# Premier sous-graphe : le graphique à barres\n",
    "ax1 = fig.add_subplot(gs[0])\n",
    "type_values.plot(kind='bar', ax=ax1)\n",
    "ax1.set_title(\"Issues\")\n",
    "ax1.set_ylabel('Nombre')\n",
    "\n",
    "# Deuxième sous-graphe : le tableau des valeurs\n",
    "ax2 = fig.add_subplot(gs[1])\n",
    "ax2.axis('off')  # Supprimer les axes du tableau\n",
    "table = ax2.table(cellText=type_values.reset_index().values,\n",
    "                  colLabels=['Type', 'Nombre'],\n",
    "                  cellLoc='center',\n",
    "                  loc='center')\n",
    "\n",
    "# Appliquer du gras uniquement sur les cellules de l'en-tête\n",
    "for (i, j), cell in table.get_celld().items():\n",
    "    if i == 0:  # Si la ligne est l'en-tête (i == 0)\n",
    "        cell.set_text_props(weight='bold')  # Appliquer du gras\n",
    "\n",
    "# Ajuster la taille du tableau\n",
    "table.scale(1, 2)\n",
    "\n",
    "plt.tight_layout()\n",
    "plt.savefig(\"types_issues.png\")\n",
    "plt.show()"
   ]
  },
  {
   "cell_type": "markdown",
   "metadata": {},
   "source": [
    "Les types d'issues que l'on va conserver sont :\n",
    "- Bug\n",
    "- Question                         "
   ]
  },
  {
   "cell_type": "code",
   "execution_count": 13,
   "metadata": {},
   "outputs": [
    {
     "data": {
      "text/plain": [
       "(22780, 7)"
      ]
     },
     "execution_count": 13,
     "metadata": {},
     "output_type": "execute_result"
    }
   ],
   "source": [
    "issue_clean_type = issue_clean[(issue_clean[\"Type\"] == \"Bug\") | (issue_clean[\"Type\"] == \"Question\")]\n",
    "issue_clean_type.shape"
   ]
  },
  {
   "cell_type": "markdown",
   "metadata": {},
   "source": [
    "### Status des issues"
   ]
  },
  {
   "cell_type": "code",
   "execution_count": 14,
   "metadata": {},
   "outputs": [
    {
     "data": {
      "text/plain": [
       "array(['Closed'], dtype=object)"
      ]
     },
     "execution_count": 14,
     "metadata": {},
     "output_type": "execute_result"
    }
   ],
   "source": [
    "issue_clean_type[\"Status\"].unique()"
   ]
  },
  {
   "cell_type": "code",
   "execution_count": 15,
   "metadata": {},
   "outputs": [
    {
     "data": {
      "text/plain": [
       "Status\n",
       "Closed    22780\n",
       "Name: count, dtype: int64"
      ]
     },
     "execution_count": 15,
     "metadata": {},
     "output_type": "execute_result"
    }
   ],
   "source": [
    "status_values = issue_clean_type[\"Status\"].value_counts()\n",
    "status_values"
   ]
  },
  {
   "cell_type": "code",
   "execution_count": 17,
   "metadata": {},
   "outputs": [
    {
     "data": {
      "image/png": "[encoded data removed]",
      "text/plain": [
       "<Figure size 1200x800 with 2 Axes>"
      ]
     },
     "metadata": {},
     "output_type": "display_data"
    }
   ],
   "source": [
    "fig = plt.figure(figsize=(12, 8))\n",
    "gs = GridSpec(1, 2, width_ratios=[1, 1])\n",
    "\n",
    "# Premier sous-graphe : le graphique à barres\n",
    "ax1 = fig.add_subplot(gs[0])\n",
    "status_values.plot(kind='bar', ax=ax1)\n",
    "ax1.set_title(\"Issues\")\n",
    "ax1.set_ylabel('Nombre')\n",
    "\n",
    "# Deuxième sous-graphe : le tableau des valeurs\n",
    "ax2 = fig.add_subplot(gs[1])\n",
    "ax2.axis('off')  # Supprimer les axes du tableau\n",
    "table = ax2.table(cellText=status_values.reset_index().values,\n",
    "                  colLabels=['Status', 'Nombre'],\n",
    "                  cellLoc='center',\n",
    "                  loc='center')\n",
    "\n",
    "# Appliquer du gras uniquement sur les cellules de l'en-tête\n",
    "for (i, j), cell in table.get_celld().items():\n",
    "    if i == 0:  # Si la ligne est l'en-tête (i == 0)\n",
    "        cell.set_text_props(weight='bold')  # Appliquer du gras\n",
    "\n",
    "# Ajuster la taille du tableau\n",
    "table.scale(1, 2)\n",
    "\n",
    "plt.tight_layout()\n",
    "plt.savefig(\"status_issues.png\")\n",
    "plt.show()"
   ]
  },
  {
   "cell_type": "markdown",
   "metadata": {
    "jp-MarkdownHeadingCollapsed": true
   },
   "source": [
    "Il n'y a plus qu'un seul status :\n",
    "- Closed"
   ]
  },
  {
   "cell_type": "markdown",
   "metadata": {},
   "source": [
    "### Résolution des issues"
   ]
  },
  {
   "cell_type": "code",
   "execution_count": 19,
   "metadata": {},
   "outputs": [
    {
     "data": {
      "text/plain": [
       "array(['Fixed', 'Community Answered', 'Duplicate', 'Done',\n",
       "       'Works as Designed', \"Won't Fix\", \"Won't Do\", 'Gone away',\n",
       "       'Incomplete', 'Cannot Reproduce', 'Declined'], dtype=object)"
      ]
     },
     "execution_count": 19,
     "metadata": {},
     "output_type": "execute_result"
    }
   ],
   "source": [
    "issue_clean_type[\"Resolution\"].unique()"
   ]
  },
  {
   "cell_type": "code",
   "execution_count": 20,
   "metadata": {},
   "outputs": [
    {
     "data": {
      "text/plain": [
       "Resolution\n",
       "Fixed                 12948\n",
       "Duplicate              3069\n",
       "Works as Designed      1841\n",
       "Done                   1428\n",
       "Gone away              1157\n",
       "Won't Fix              1003\n",
       "Incomplete              692\n",
       "Cannot Reproduce        520\n",
       "Community Answered       65\n",
       "Won't Do                 55\n",
       "Declined                  2\n",
       "Name: count, dtype: int64"
      ]
     },
     "execution_count": 20,
     "metadata": {},
     "output_type": "execute_result"
    }
   ],
   "source": [
    "resolution_values = issue_clean_type[\"Resolution\"].value_counts()\n",
    "resolution_values"
   ]
  },
  {
   "cell_type": "code",
   "execution_count": 21,
   "metadata": {},
   "outputs": [
    {
     "data": {
      "image/png": "[encoded data removed]",
      "text/plain": [
       "<Figure size 1500x800 with 2 Axes>"
      ]
     },
     "metadata": {},
     "output_type": "display_data"
    }
   ],
   "source": [
    "fig = plt.figure(figsize=(15, 8))\n",
    "gs = GridSpec(1, 2, width_ratios=[0.7, 0.3])\n",
    "\n",
    "# Premier sous-graphe : le graphique à barres\n",
    "ax1 = fig.add_subplot(gs[0])\n",
    "resolution_values.plot(kind='bar', ax=ax1)\n",
    "ax1.set_title(\"Issues\")\n",
    "ax1.set_ylabel('Nombre')\n",
    "\n",
    "# Deuxième sous-graphe : le tableau des valeurs\n",
    "ax2 = fig.add_subplot(gs[1])\n",
    "ax2.axis('off')  # Supprimer les axes du tableau\n",
    "table = ax2.table(cellText=resolution_values.reset_index().values,\n",
    "                  colLabels=['Résolution', 'Nombre'],\n",
    "                  cellLoc='center',\n",
    "                  loc='center')\n",
    "\n",
    "# Appliquer du gras uniquement sur les cellules de l'en-tête\n",
    "for (i, j), cell in table.get_celld().items():\n",
    "    if i == 0:  # Si la ligne est l'en-tête (i == 0)\n",
    "        cell.set_text_props(weight='bold')  # Appliquer du gras\n",
    "\n",
    "# Ajuster la taille du tableau\n",
    "table.scale(1, 2)\n",
    "\n",
    "plt.tight_layout()\n",
    "plt.savefig(\"resolution_issues.png\")\n",
    "plt.show()"
   ]
  },
  {
   "cell_type": "markdown",
   "metadata": {},
   "source": [
    "Les types de résolution que l'on va traîter sont : \n",
    "- Fixed\n",
    "- Done                     \n",
    "- Community Answered                                     "
   ]
  },
  {
   "cell_type": "code",
   "execution_count": 22,
   "metadata": {},
   "outputs": [
    {
     "name": "stdout",
     "output_type": "stream",
     "text": [
      "(14441, 7)\n"
     ]
    },
    {
     "data": {
      "text/html": [
       "<div>\n",
       "<style scoped>\n",
       "    .dataframe tbody tr th:only-of-type {\n",
       "        vertical-align: middle;\n",
       "    }\n",
       "\n",
       "    .dataframe tbody tr th {\n",
       "        vertical-align: top;\n",
       "    }\n",
       "\n",
       "    .dataframe thead th {\n",
       "        text-align: right;\n",
       "    }\n",
       "</style>\n",
       "<table border=\"1\" class=\"dataframe\">\n",
       "  <thead>\n",
       "    <tr style=\"text-align: right;\">\n",
       "      <th></th>\n",
       "      <th>ID</th>\n",
       "      <th>Title</th>\n",
       "      <th>Description</th>\n",
       "      <th>Type</th>\n",
       "      <th>Status</th>\n",
       "      <th>Resolution</th>\n",
       "      <th>Last_Updated</th>\n",
       "    </tr>\n",
       "  </thead>\n",
       "  <tbody>\n",
       "    <tr>\n",
       "      <th>409594</th>\n",
       "      <td>460398</td>\n",
       "      <td>\"libunwind fails to build with GCC &gt;=10.2\"</td>\n",
       "      <td>\"In the newer GCC version, C globals are now n...</td>\n",
       "      <td>Bug</td>\n",
       "      <td>Closed</td>\n",
       "      <td>Fixed</td>\n",
       "      <td>2020-10-21 02:03:04</td>\n",
       "    </tr>\n",
       "    <tr>\n",
       "      <th>409605</th>\n",
       "      <td>460409</td>\n",
       "      <td>\"Fix 3-way compare for ArraySet in SBE\"</td>\n",
       "      <td></td>\n",
       "      <td>Bug</td>\n",
       "      <td>Closed</td>\n",
       "      <td>Fixed</td>\n",
       "      <td>2020-10-21 07:29:02</td>\n",
       "    </tr>\n",
       "    <tr>\n",
       "      <th>409614</th>\n",
       "      <td>460418</td>\n",
       "      <td>\"'arrayEq()' undefined  in tenant_migration_no...</td>\n",
       "      <td>\"Load this  file \"\"jstests/aggregation/extras/...</td>\n",
       "      <td>Bug</td>\n",
       "      <td>Closed</td>\n",
       "      <td>Fixed</td>\n",
       "      <td>2020-10-20 18:41:40</td>\n",
       "    </tr>\n",
       "    <tr>\n",
       "      <th>409645</th>\n",
       "      <td>460449</td>\n",
       "      <td>\"BSONElement::_binDataVector incorrect bindata...</td>\n",
       "      <td>\"I could be wrong, but I think {{BSONElement::...</td>\n",
       "      <td>Bug</td>\n",
       "      <td>Closed</td>\n",
       "      <td>Fixed</td>\n",
       "      <td>2020-10-20 02:06:58</td>\n",
       "    </tr>\n",
       "    <tr>\n",
       "      <th>409646</th>\n",
       "      <td>460450</td>\n",
       "      <td>\"BSONElement::toString must account for negati...</td>\n",
       "      <td>\"SERVER-43909 changed {{toHex(char*,int)}} to ...</td>\n",
       "      <td>Bug</td>\n",
       "      <td>Closed</td>\n",
       "      <td>Fixed</td>\n",
       "      <td>2020-10-19 17:51:55</td>\n",
       "    </tr>\n",
       "  </tbody>\n",
       "</table>\n",
       "</div>"
      ],
      "text/plain": [
       "            ID                                              Title  \\\n",
       "409594  460398         \"libunwind fails to build with GCC >=10.2\"   \n",
       "409605  460409            \"Fix 3-way compare for ArraySet in SBE\"   \n",
       "409614  460418  \"'arrayEq()' undefined  in tenant_migration_no...   \n",
       "409645  460449  \"BSONElement::_binDataVector incorrect bindata...   \n",
       "409646  460450  \"BSONElement::toString must account for negati...   \n",
       "\n",
       "                                              Description Type  Status  \\\n",
       "409594  \"In the newer GCC version, C globals are now n...  Bug  Closed   \n",
       "409605                                                     Bug  Closed   \n",
       "409614  \"Load this  file \"\"jstests/aggregation/extras/...  Bug  Closed   \n",
       "409645  \"I could be wrong, but I think {{BSONElement::...  Bug  Closed   \n",
       "409646  \"SERVER-43909 changed {{toHex(char*,int)}} to ...  Bug  Closed   \n",
       "\n",
       "       Resolution        Last_Updated  \n",
       "409594      Fixed 2020-10-21 02:03:04  \n",
       "409605      Fixed 2020-10-21 07:29:02  \n",
       "409614      Fixed 2020-10-20 18:41:40  \n",
       "409645      Fixed 2020-10-20 02:06:58  \n",
       "409646      Fixed 2020-10-19 17:51:55  "
      ]
     },
     "execution_count": 22,
     "metadata": {},
     "output_type": "execute_result"
    }
   ],
   "source": [
    "issue_clean_type_status_resolution = issue_clean_type[(issue_clean_type[\"Resolution\"] == \"Fixed\") | (issue_clean_type[\"Resolution\"] == \"Done\") | (issue_clean_type[\"Resolution\"] == \"Community Answered\")]\n",
    "print(issue_clean_type_status_resolution.shape)\n",
    "issue_clean_type_status_resolution.head()"
   ]
  },
  {
   "cell_type": "markdown",
   "metadata": {},
   "source": [
    "## Analyse des commentaires"
   ]
  },
  {
   "cell_type": "code",
   "execution_count": 23,
   "metadata": {},
   "outputs": [
    {
     "name": "stdout",
     "output_type": "stream",
     "text": [
      "Nombre de commentaires : 1518327\n",
      "Nombre de features dans la table 'Comment' : 7\n"
     ]
    }
   ],
   "source": [
    "print(f\"Nombre de commentaires : {comment.shape[0]}\")\n",
    "print(f\"Nombre de features dans la table 'Comment' : {comment.shape[1]}\")"
   ]
  },
  {
   "cell_type": "code",
   "execution_count": 24,
   "metadata": {},
   "outputs": [
    {
     "data": {
      "text/plain": [
       "ID                        int64\n",
       "Comment                  object\n",
       "Comment_Text             object\n",
       "Comment_Code             object\n",
       "Creation_Date    datetime64[ns]\n",
       "Author_ID               float64\n",
       "Issue_ID                  int64\n",
       "dtype: object"
      ]
     },
     "execution_count": 24,
     "metadata": {},
     "output_type": "execute_result"
    }
   ],
   "source": [
    "comment.dtypes"
   ]
  },
  {
   "cell_type": "code",
   "execution_count": 25,
   "metadata": {},
   "outputs": [
    {
     "name": "stdout",
     "output_type": "stream",
     "text": [
      "(1518327, 2)\n"
     ]
    },
    {
     "data": {
      "text/html": [
       "<div>\n",
       "<style scoped>\n",
       "    .dataframe tbody tr th:only-of-type {\n",
       "        vertical-align: middle;\n",
       "    }\n",
       "\n",
       "    .dataframe tbody tr th {\n",
       "        vertical-align: top;\n",
       "    }\n",
       "\n",
       "    .dataframe thead th {\n",
       "        text-align: right;\n",
       "    }\n",
       "</style>\n",
       "<table border=\"1\" class=\"dataframe\">\n",
       "  <thead>\n",
       "    <tr style=\"text-align: right;\">\n",
       "      <th></th>\n",
       "      <th>Issue_ID</th>\n",
       "      <th>Comment</th>\n",
       "    </tr>\n",
       "  </thead>\n",
       "  <tbody>\n",
       "    <tr>\n",
       "      <th>0</th>\n",
       "      <td>68</td>\n",
       "      <td>See https://github.com/spring-projects/spring-...</td>\n",
       "    </tr>\n",
       "    <tr>\n",
       "      <th>1</th>\n",
       "      <td>73</td>\n",
       "      <td>Please refer to the attached document. We will...</td>\n",
       "    </tr>\n",
       "    <tr>\n",
       "      <th>2</th>\n",
       "      <td>73</td>\n",
       "      <td>Thanks Sabby. I tried structuring the AD to th...</td>\n",
       "    </tr>\n",
       "    <tr>\n",
       "      <th>3</th>\n",
       "      <td>73</td>\n",
       "      <td>Notice the following piece of code (https://gi...</td>\n",
       "    </tr>\n",
       "    <tr>\n",
       "      <th>4</th>\n",
       "      <td>75</td>\n",
       "      <td>Hi [~&lt;USER&gt;: \\n\\nCan you confirm you have the ...</td>\n",
       "    </tr>\n",
       "  </tbody>\n",
       "</table>\n",
       "</div>"
      ],
      "text/plain": [
       "   Issue_ID                                            Comment\n",
       "0        68  See https://github.com/spring-projects/spring-...\n",
       "1        73  Please refer to the attached document. We will...\n",
       "2        73  Thanks Sabby. I tried structuring the AD to th...\n",
       "3        73  Notice the following piece of code (https://gi...\n",
       "4        75  Hi [~<USER>: \\n\\nCan you confirm you have the ..."
      ]
     },
     "execution_count": 25,
     "metadata": {},
     "output_type": "execute_result"
    }
   ],
   "source": [
    "comment_reduce = comment[[\"Issue_ID\", \"Comment\"]]\n",
    "comment_clean = comment_reduce.dropna()\n",
    "print(comment_clean.shape)\n",
    "comment_clean.head()"
   ]
  },
  {
   "cell_type": "code",
   "execution_count": 26,
   "metadata": {},
   "outputs": [
    {
     "name": "stdout",
     "output_type": "stream",
     "text": [
      "(363351, 2)\n"
     ]
    },
    {
     "data": {
      "text/html": [
       "<div>\n",
       "<style scoped>\n",
       "    .dataframe tbody tr th:only-of-type {\n",
       "        vertical-align: middle;\n",
       "    }\n",
       "\n",
       "    .dataframe tbody tr th {\n",
       "        vertical-align: top;\n",
       "    }\n",
       "\n",
       "    .dataframe thead th {\n",
       "        text-align: right;\n",
       "    }\n",
       "</style>\n",
       "<table border=\"1\" class=\"dataframe\">\n",
       "  <thead>\n",
       "    <tr style=\"text-align: right;\">\n",
       "      <th></th>\n",
       "      <th>Issue_ID</th>\n",
       "      <th>Comment</th>\n",
       "    </tr>\n",
       "  </thead>\n",
       "  <tbody>\n",
       "    <tr>\n",
       "      <th>0</th>\n",
       "      <td>68</td>\n",
       "      <td>See https://github.com/spring-projects/spring-...</td>\n",
       "    </tr>\n",
       "    <tr>\n",
       "      <th>1</th>\n",
       "      <td>73</td>\n",
       "      <td>Please refer to the attached document. We will...</td>\n",
       "    </tr>\n",
       "    <tr>\n",
       "      <th>2</th>\n",
       "      <td>75</td>\n",
       "      <td>Hi [~&lt;USER&gt;: \\n\\nCan you confirm you have the ...</td>\n",
       "    </tr>\n",
       "    <tr>\n",
       "      <th>3</th>\n",
       "      <td>76</td>\n",
       "      <td>Can you explain further?\\n\\nThere is only one ...</td>\n",
       "    </tr>\n",
       "    <tr>\n",
       "      <th>4</th>\n",
       "      <td>77</td>\n",
       "      <td>After I changed to another VM, which is CDH 5....</td>\n",
       "    </tr>\n",
       "  </tbody>\n",
       "</table>\n",
       "</div>"
      ],
      "text/plain": [
       "   Issue_ID                                            Comment\n",
       "0        68  See https://github.com/spring-projects/spring-...\n",
       "1        73  Please refer to the attached document. We will...\n",
       "2        75  Hi [~<USER>: \\n\\nCan you confirm you have the ...\n",
       "3        76  Can you explain further?\\n\\nThere is only one ...\n",
       "4        77  After I changed to another VM, which is CDH 5...."
      ]
     },
     "execution_count": 26,
     "metadata": {},
     "output_type": "execute_result"
    }
   ],
   "source": [
    "# Regrouper tous les commentaires d'une Issue_ID dans un seul enregistrement\n",
    "comment_clean_grouped = comment_clean.groupby('Issue_ID')['Comment'].agg(lambda x: ', '.join(x)).reset_index()\n",
    "print(comment_clean_grouped.shape)\n",
    "comment_clean_grouped.head()"
   ]
  },
  {
   "cell_type": "code",
   "execution_count": 27,
   "metadata": {},
   "outputs": [
    {
     "data": {
      "text/plain": [
       "array([[73,\n",
       "        'Please refer to the attached document. We will eventually get this added to the reference guide. Hope this helps. , Thanks Sabby. I tried structuring the AD to the document, with two OU of users and guides. But windows AD base users\\' DN on \"CN=User1, OU=Users, OU=Company, DN=COMPANY, DC=SG\"\\n\\nCurrently it is unable to get the ROLE from the attribute CN in AD, because it is unable to search for the user in the group. My suspicion is because the SpringXD search based on \"uid=User1,OU=Users,OU=Company, DN=COMPANY, DC=SG\" rather than \"CN=User1, OU=Users, OU=Company, DN=COMPANY, DC=SG\"\\n\\nCan you assist with that?\\n\\n\\n, Notice the following piece of code (https://github.com/spring-projects/spring-xd/blob/115487070e9196a4bb8bfd9b6fe8b85494ac6cca/spring-xd-dirt/src/main/java/org/springframework/xd/dirt/server/security/LdapAuthenticationConfiguration.java#L171)\\n{code:java}\\nldapConfigurer.ldapAuthoritiesPopulator(new LdapAuthoritiesPopulator() {\\n    @Override\\n    public Collection<? extends GrantedAuthority> getGrantedAuthorities(DirContextOperations userData, String username) {\\n        return Collections.singleton(new SimpleGrantedAuthority(\"ROLE_ADMIN\"));\\n    }\\n});\\n{code}\\n\\nIt seems that by default, ROLE_ADMIN privilege is granted to users. However, using the default permission schema, they are not allowed to perform any operation other than the granted by their ADMIN privilege (which it\\'s very restricted). I temporarily changed this behavior by returning a List that contains all predetermined roles (ADMIN, VIEW, CREATE). \\n']],\n",
       "      dtype=object)"
      ]
     },
     "execution_count": 27,
     "metadata": {},
     "output_type": "execute_result"
    }
   ],
   "source": [
    "comment_clean_grouped[comment_clean_grouped['Issue_ID'] == 73].values"
   ]
  },
  {
   "cell_type": "markdown",
   "metadata": {},
   "source": [
    "## Issue + Commentaires"
   ]
  },
  {
   "cell_type": "code",
   "execution_count": 28,
   "metadata": {},
   "outputs": [
    {
     "name": "stdout",
     "output_type": "stream",
     "text": [
      "(14243, 8)\n"
     ]
    },
    {
     "data": {
      "text/html": [
       "<div>\n",
       "<style scoped>\n",
       "    .dataframe tbody tr th:only-of-type {\n",
       "        vertical-align: middle;\n",
       "    }\n",
       "\n",
       "    .dataframe tbody tr th {\n",
       "        vertical-align: top;\n",
       "    }\n",
       "\n",
       "    .dataframe thead th {\n",
       "        text-align: right;\n",
       "    }\n",
       "</style>\n",
       "<table border=\"1\" class=\"dataframe\">\n",
       "  <thead>\n",
       "    <tr style=\"text-align: right;\">\n",
       "      <th></th>\n",
       "      <th>ID</th>\n",
       "      <th>Title</th>\n",
       "      <th>Description</th>\n",
       "      <th>Type</th>\n",
       "      <th>Status</th>\n",
       "      <th>Resolution</th>\n",
       "      <th>Last_Updated</th>\n",
       "      <th>Comment</th>\n",
       "    </tr>\n",
       "  </thead>\n",
       "  <tbody>\n",
       "    <tr>\n",
       "      <th>0</th>\n",
       "      <td>460398</td>\n",
       "      <td>\"libunwind fails to build with GCC &gt;=10.2\"</td>\n",
       "      <td>\"In the newer GCC version, C globals are now n...</td>\n",
       "      <td>Bug</td>\n",
       "      <td>Closed</td>\n",
       "      <td>Fixed</td>\n",
       "      <td>2020-10-21 02:03:04</td>\n",
       "      <td>Author:{'name': '&lt;USER&gt;, 'email': '&lt;EMAIL&gt;', '...</td>\n",
       "    </tr>\n",
       "    <tr>\n",
       "      <th>1</th>\n",
       "      <td>460409</td>\n",
       "      <td>\"Fix 3-way compare for ArraySet in SBE\"</td>\n",
       "      <td></td>\n",
       "      <td>Bug</td>\n",
       "      <td>Closed</td>\n",
       "      <td>Fixed</td>\n",
       "      <td>2020-10-21 07:29:02</td>\n",
       "      <td>Author:{'name': '&lt;USER&gt;, 'email': '&lt;EMAIL&gt;', '...</td>\n",
       "    </tr>\n",
       "    <tr>\n",
       "      <th>2</th>\n",
       "      <td>460418</td>\n",
       "      <td>\"'arrayEq()' undefined  in tenant_migration_no...</td>\n",
       "      <td>\"Load this  file \"\"jstests/aggregation/extras/...</td>\n",
       "      <td>Bug</td>\n",
       "      <td>Closed</td>\n",
       "      <td>Fixed</td>\n",
       "      <td>2020-10-20 18:41:40</td>\n",
       "      <td>Author:{'name': 'XueruiFa', 'email': '&lt;EMAIL&gt;'...</td>\n",
       "    </tr>\n",
       "    <tr>\n",
       "      <th>3</th>\n",
       "      <td>460449</td>\n",
       "      <td>\"BSONElement::_binDataVector incorrect bindata...</td>\n",
       "      <td>\"I could be wrong, but I think {{BSONElement::...</td>\n",
       "      <td>Bug</td>\n",
       "      <td>Closed</td>\n",
       "      <td>Fixed</td>\n",
       "      <td>2020-10-20 02:06:58</td>\n",
       "      <td>CR https://mongodbcr.appspot.com/693030002/, D...</td>\n",
       "    </tr>\n",
       "    <tr>\n",
       "      <th>4</th>\n",
       "      <td>460450</td>\n",
       "      <td>\"BSONElement::toString must account for negati...</td>\n",
       "      <td>\"SERVER-43909 changed {{toHex(char*,int)}} to ...</td>\n",
       "      <td>Bug</td>\n",
       "      <td>Closed</td>\n",
       "      <td>Fixed</td>\n",
       "      <td>2020-10-19 17:51:55</td>\n",
       "      <td>\\r\\nCR https://mongodbcr.appspot.com/687240002...</td>\n",
       "    </tr>\n",
       "  </tbody>\n",
       "</table>\n",
       "</div>"
      ],
      "text/plain": [
       "       ID                                              Title  \\\n",
       "0  460398         \"libunwind fails to build with GCC >=10.2\"   \n",
       "1  460409            \"Fix 3-way compare for ArraySet in SBE\"   \n",
       "2  460418  \"'arrayEq()' undefined  in tenant_migration_no...   \n",
       "3  460449  \"BSONElement::_binDataVector incorrect bindata...   \n",
       "4  460450  \"BSONElement::toString must account for negati...   \n",
       "\n",
       "                                         Description Type  Status Resolution  \\\n",
       "0  \"In the newer GCC version, C globals are now n...  Bug  Closed      Fixed   \n",
       "1                                                     Bug  Closed      Fixed   \n",
       "2  \"Load this  file \"\"jstests/aggregation/extras/...  Bug  Closed      Fixed   \n",
       "3  \"I could be wrong, but I think {{BSONElement::...  Bug  Closed      Fixed   \n",
       "4  \"SERVER-43909 changed {{toHex(char*,int)}} to ...  Bug  Closed      Fixed   \n",
       "\n",
       "         Last_Updated                                            Comment  \n",
       "0 2020-10-21 02:03:04  Author:{'name': '<USER>, 'email': '<EMAIL>', '...  \n",
       "1 2020-10-21 07:29:02  Author:{'name': '<USER>, 'email': '<EMAIL>', '...  \n",
       "2 2020-10-20 18:41:40  Author:{'name': 'XueruiFa', 'email': '<EMAIL>'...  \n",
       "3 2020-10-20 02:06:58  CR https://mongodbcr.appspot.com/693030002/, D...  \n",
       "4 2020-10-19 17:51:55  \\r\\nCR https://mongodbcr.appspot.com/687240002...  "
      ]
     },
     "execution_count": 28,
     "metadata": {},
     "output_type": "execute_result"
    }
   ],
   "source": [
    "issue_comment_merge = issue_clean_type_status_resolution.merge(comment_clean_grouped, left_on='ID', right_on='Issue_ID')\n",
    "del issue_comment_merge[\"Issue_ID\"]\n",
    "print(issue_comment_merge.shape)\n",
    "issue_comment_merge.head()"
   ]
  },
  {
   "cell_type": "code",
   "execution_count": 29,
   "metadata": {},
   "outputs": [
    {
     "data": {
      "text/plain": [
       "ID                       int64\n",
       "Title           string[python]\n",
       "Description     string[python]\n",
       "Type            string[python]\n",
       "Status          string[python]\n",
       "Resolution      string[python]\n",
       "Last_Updated    datetime64[ns]\n",
       "Comment                 object\n",
       "dtype: object"
      ]
     },
     "execution_count": 29,
     "metadata": {},
     "output_type": "execute_result"
    }
   ],
   "source": [
    "issue_comment_merge[\"Title\"] = issue_comment_merge[\"Title\"].astype('string')\n",
    "issue_comment_merge[\"Description\"] = issue_comment_merge[\"Description\"].astype('string')\n",
    "issue_comment_merge[\"Type\"] = issue_comment_merge[\"Type\"].astype('string')\n",
    "issue_comment_merge[\"Status\"] = issue_comment_merge[\"Status\"].astype('string')\n",
    "issue_comment_merge[\"Resolution\"] = issue_comment_merge[\"Resolution\"].astype('string')\n",
    "issue_comment_merge[\"Comment\"] = issue_comment_merge[\"Comment\"].astype('string')\n",
    "issue_comment_merge['Comment'] = issue_comment_merge['Comment'].apply(lambda x: f'\"{x}\"')\n",
    "issue_comment_merge.dtypes"
   ]
  },
  {
   "cell_type": "code",
   "execution_count": 30,
   "metadata": {},
   "outputs": [
    {
     "data": {
      "text/html": [
       "<div>\n",
       "<style scoped>\n",
       "    .dataframe tbody tr th:only-of-type {\n",
       "        vertical-align: middle;\n",
       "    }\n",
       "\n",
       "    .dataframe tbody tr th {\n",
       "        vertical-align: top;\n",
       "    }\n",
       "\n",
       "    .dataframe thead th {\n",
       "        text-align: right;\n",
       "    }\n",
       "</style>\n",
       "<table border=\"1\" class=\"dataframe\">\n",
       "  <thead>\n",
       "    <tr style=\"text-align: right;\">\n",
       "      <th></th>\n",
       "      <th>ID</th>\n",
       "      <th>Title</th>\n",
       "      <th>Description</th>\n",
       "      <th>Type</th>\n",
       "      <th>Status</th>\n",
       "      <th>Resolution</th>\n",
       "      <th>Last_Updated</th>\n",
       "      <th>Comment</th>\n",
       "    </tr>\n",
       "  </thead>\n",
       "  <tbody>\n",
       "    <tr>\n",
       "      <th>0</th>\n",
       "      <td>460398</td>\n",
       "      <td>\"libunwind fails to build with GCC &gt;=10.2\"</td>\n",
       "      <td>\"In the newer GCC version, C globals are now n...</td>\n",
       "      <td>Bug</td>\n",
       "      <td>Closed</td>\n",
       "      <td>Fixed</td>\n",
       "      <td>2020-10-21 02:03:04</td>\n",
       "      <td>\"Author:{'name': '&lt;USER&gt;, 'email': '&lt;EMAIL&gt;', ...</td>\n",
       "    </tr>\n",
       "    <tr>\n",
       "      <th>1</th>\n",
       "      <td>460409</td>\n",
       "      <td>\"Fix 3-way compare for ArraySet in SBE\"</td>\n",
       "      <td></td>\n",
       "      <td>Bug</td>\n",
       "      <td>Closed</td>\n",
       "      <td>Fixed</td>\n",
       "      <td>2020-10-21 07:29:02</td>\n",
       "      <td>\"Author:{'name': '&lt;USER&gt;, 'email': '&lt;EMAIL&gt;', ...</td>\n",
       "    </tr>\n",
       "    <tr>\n",
       "      <th>2</th>\n",
       "      <td>460418</td>\n",
       "      <td>\"'arrayEq()' undefined  in tenant_migration_no...</td>\n",
       "      <td>\"Load this  file \"\"jstests/aggregation/extras/...</td>\n",
       "      <td>Bug</td>\n",
       "      <td>Closed</td>\n",
       "      <td>Fixed</td>\n",
       "      <td>2020-10-20 18:41:40</td>\n",
       "      <td>\"Author:{'name': 'XueruiFa', 'email': '&lt;EMAIL&gt;...</td>\n",
       "    </tr>\n",
       "    <tr>\n",
       "      <th>3</th>\n",
       "      <td>460449</td>\n",
       "      <td>\"BSONElement::_binDataVector incorrect bindata...</td>\n",
       "      <td>\"I could be wrong, but I think {{BSONElement::...</td>\n",
       "      <td>Bug</td>\n",
       "      <td>Closed</td>\n",
       "      <td>Fixed</td>\n",
       "      <td>2020-10-20 02:06:58</td>\n",
       "      <td>\"CR https://mongodbcr.appspot.com/693030002/, ...</td>\n",
       "    </tr>\n",
       "    <tr>\n",
       "      <th>4</th>\n",
       "      <td>460450</td>\n",
       "      <td>\"BSONElement::toString must account for negati...</td>\n",
       "      <td>\"SERVER-43909 changed {{toHex(char*,int)}} to ...</td>\n",
       "      <td>Bug</td>\n",
       "      <td>Closed</td>\n",
       "      <td>Fixed</td>\n",
       "      <td>2020-10-19 17:51:55</td>\n",
       "      <td>\"\\r\\nCR https://mongodbcr.appspot.com/68724000...</td>\n",
       "    </tr>\n",
       "  </tbody>\n",
       "</table>\n",
       "</div>"
      ],
      "text/plain": [
       "       ID                                              Title  \\\n",
       "0  460398         \"libunwind fails to build with GCC >=10.2\"   \n",
       "1  460409            \"Fix 3-way compare for ArraySet in SBE\"   \n",
       "2  460418  \"'arrayEq()' undefined  in tenant_migration_no...   \n",
       "3  460449  \"BSONElement::_binDataVector incorrect bindata...   \n",
       "4  460450  \"BSONElement::toString must account for negati...   \n",
       "\n",
       "                                         Description Type  Status Resolution  \\\n",
       "0  \"In the newer GCC version, C globals are now n...  Bug  Closed      Fixed   \n",
       "1                                                     Bug  Closed      Fixed   \n",
       "2  \"Load this  file \"\"jstests/aggregation/extras/...  Bug  Closed      Fixed   \n",
       "3  \"I could be wrong, but I think {{BSONElement::...  Bug  Closed      Fixed   \n",
       "4  \"SERVER-43909 changed {{toHex(char*,int)}} to ...  Bug  Closed      Fixed   \n",
       "\n",
       "         Last_Updated                                            Comment  \n",
       "0 2020-10-21 02:03:04  \"Author:{'name': '<USER>, 'email': '<EMAIL>', ...  \n",
       "1 2020-10-21 07:29:02  \"Author:{'name': '<USER>, 'email': '<EMAIL>', ...  \n",
       "2 2020-10-20 18:41:40  \"Author:{'name': 'XueruiFa', 'email': '<EMAIL>...  \n",
       "3 2020-10-20 02:06:58  \"CR https://mongodbcr.appspot.com/693030002/, ...  \n",
       "4 2020-10-19 17:51:55  \"\\r\\nCR https://mongodbcr.appspot.com/68724000...  "
      ]
     },
     "execution_count": 30,
     "metadata": {},
     "output_type": "execute_result"
    }
   ],
   "source": [
    "issue_comment_merge.head()"
   ]
  },
  {
   "cell_type": "code",
   "execution_count": 31,
   "metadata": {},
   "outputs": [],
   "source": [
    "issue_comment_merge.to_csv(\"jira_issues.csv\", quoting=csv.QUOTE_MINIMAL, sep=\";\", escapechar=\"\\\\\")"
   ]
  },
  {
   "cell_type": "code",
   "execution_count": 53,
   "metadata": {},
   "outputs": [
    {
     "name": "stdout",
     "output_type": "stream",
     "text": [
      "\"\"This is a bug in the {{ModuleObjectNamingStrategy}} - it assumes the beanKey is already formatted to call {{ObjectNameManager.getInstance()}}.\n",
      "\n",
      "The standard naming strategy catches this exception and reformats the key...\n",
      "\n",
      "{code}\n",
      "\t\t\tcatch (MalformedObjectNameException ex) {\n",
      "\t\t\t\tString domain = this.defaultDomain;\n",
      "\t\t\t\tif (domain == null) {\n",
      "\t\t\t\t\tdomain = ClassUtils.getPackageName(managedClass);\n",
      "\t\t\t\t}\n",
      "\t\t\t\tHashtable<String, String> properties = new Hashtable<String, String>();\n",
      "\t\t\t\tproperties.put(\"type\", ClassUtils.getShortName(managedClass));\n",
      "\t\t\t\tproperties.put(\"name\", beanKey);\n",
      "\t\t\t\treturn ObjectNameManager.getInstance(domain, properties);\n",
      "\t\t\t}\n",
      "{code}\n",
      "\n",
      "The XD custom naming strategy should subclass {{MetadataNamingStrategy}} as is done for the default Spring Integration naming strategy.\"\"\n"
     ]
    }
   ],
   "source": [
    "print(issue_comment_merge.iloc[0][\"Comment\"])"
   ]
  }
 ],
 "metadata": {
  "kernelspec": {
   "display_name": "Python 3 (ipykernel)",
   "language": "python",
   "name": "python3"
  },
  "language_info": {
   "codemirror_mode": {
    "name": "ipython",
    "version": 3
   },
   "file_extension": ".py",
   "mimetype": "text/x-python",
   "name": "python",
   "nbconvert_exporter": "python",
   "pygments_lexer": "ipython3",
   "version": "3.10.14"
  }
 },
 "nbformat": 4,
 "nbformat_minor": 4
}
