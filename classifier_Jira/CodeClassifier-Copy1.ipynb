{
 "cells": [
  {
   "cell_type": "code",
   "execution_count": 8,
   "id": "d98767b4-354d-48dc-8cdd-ef425044a216",
   "metadata": {},
   "outputs": [],
   "source": [
    "import mariadb\n",
    "import sys\n",
    "import pandas as pd\n",
    "import numpy as np\n",
    "from sklearn.metrics import accuracy_score\n",
    "from sklearn.preprocessing import OneHotEncoder, StandardScaler, LabelEncoder, Normalizer\n",
    "from sklearn.model_selection import train_test_split \n",
    "from sklearn.metrics import confusion_matrix, ConfusionMatrixDisplay, roc_curve, auc, RocCurveDisplay\n",
    "from sklearn.tree import DecisionTreeClassifier \n",
    "from sklearn.linear_model import LogisticRegression\n",
    "import datetime\n",
    "import matplotlib.pyplot as plt\n",
    "from xgboost import XGBClassifier\n",
    "from sklearn.ensemble import RandomForestClassifier\n",
    "import mlflow\n",
    "from mlflow.models import infer_signature\n",
    "from mlflow.data.pandas_dataset import PandasDataset\n",
    "from mlflow import MlflowClient\n",
    "from sklearn import datasets\n",
    "from sklearn.metrics import accuracy_score, precision_score, recall_score, confusion_matrix\n",
    "from xgboost import XGBClassifier\n",
    "import seaborn as sns\n",
    "import os\n"
   ]
  },
  {
   "cell_type": "code",
   "execution_count": 9,
   "id": "32758fb3-9dcf-4264-9c05-3dff1c39311f",
   "metadata": {},
   "outputs": [],
   "source": [
    "# Connect to MariaDB Platform\n",
    "try:\n",
    "    connection = mariadb.connect(\n",
    "        user=\"root\",\n",
    "        password=\"root\",\n",
    "        host=\"127.0.0.1\",\n",
    "        port=3306,\n",
    "        database=\"tawos_cleaned\"\n",
    "\n",
    "    )\n",
    "except mariadb.Error as e:\n",
    "    print(f\"Error connecting to MariaDB Platform: {e}\")\n",
    "    sys.exit(1)"
   ]
  },
  {
   "cell_type": "code",
   "execution_count": 10,
   "id": "8bc06663-b195-4bd3-b1ba-f002706c4f2e",
   "metadata": {},
   "outputs": [],
   "source": [
    "def get_rows(db):\n",
    "    \"\"\" Permet de retourner les enregistrements de la table data_cleaned2 \"\"\"\n",
    "    cur  = db.cursor()\n",
    "    columns = []\n",
    "    cur.execute(\"SELECT `COLUMN_NAME` FROM `INFORMATION_SCHEMA`.`COLUMNS` WHERE `TABLE_SCHEMA`='tawos_cleaned' AND `TABLE_NAME`='data_cleaned2'\")\n",
    "    for c in cur:\n",
    "        columns.append(c[0])\n",
    "    cur.close()\n",
    "    \n",
    "    cur = db.cursor()\n",
    "    cur.execute(\n",
    "        \"SELECT * FROM data_cleaned2\"\n",
    "    )\n",
    "    items = []\n",
    "    for v in cur:\n",
    "        items.append(v)\n",
    "    cur.close()\n",
    "    return columns, items"
   ]
  },
  {
   "cell_type": "code",
   "execution_count": 11,
   "id": "fdea0c59-3723-4c33-a0fd-02dba7b11c06",
   "metadata": {
    "scrolled": true
   },
   "outputs": [],
   "source": [
    "columns, issues = get_rows(connection)\n"
   ]
  },
  {
   "cell_type": "code",
   "execution_count": 12,
   "id": "4c90bd5d-4c4a-4eb2-8f1b-f3020a806ec9",
   "metadata": {
    "scrolled": true
   },
   "outputs": [
    {
     "name": "stdout",
     "output_type": "stream",
     "text": [
      "33\n"
     ]
    },
    {
     "data": {
      "text/plain": [
       "458232"
      ]
     },
     "execution_count": 12,
     "metadata": {},
     "output_type": "execute_result"
    }
   ],
   "source": [
    "print(len(columns))\n",
    "len(issues)"
   ]
  },
  {
   "cell_type": "code",
   "execution_count": 13,
   "id": "b68b3106-37fd-4874-860c-5f141266f039",
   "metadata": {
    "scrolled": true
   },
   "outputs": [
    {
     "data": {
      "text/plain": [
       "array(['To Do', 'Done', 'In PR', 'In Progress', 'Open', 'Closed',\n",
       "       'Resolved', 'Waiting for Feedback', 'New', 'In Development',\n",
       "       'Waiting for Review', 'To Be Tested', 'Testing In Progress', 'Raw',\n",
       "       'Ready for Development', 'Refine', 'Ready to Groom', 'Accepted',\n",
       "       'Reviewable', 'Patch Available', 'Reopened', 'In Review',\n",
       "       'Gathering Interest', 'Needs Triage', 'Long Term Backlog',\n",
       "       'Short Term Backlog', 'Gathering Impact', 'Under Consideration',\n",
       "       'Future Consideration', 'Waiting for Release',\n",
       "       'Not Being Considered', 'Reviewing', 'Awaiting Release',\n",
       "       'Published', 'Awaiting Merge', 'Complete', 'Backlog', 'Planning',\n",
       "       'To Test', 'Code Review', 'To Develop', 'Unverified',\n",
       "       'In CR Review', 'Returned', 'Reviewed', 'Invalid', \"Won't Fix\",\n",
       "       'Selected for Development', 'Debugging With Submitter',\n",
       "       'Ready for Work', 'Scoping', 'In Code Review', 'Investigating',\n",
       "       'Waiting (Blocked)', 'Waiting for Reporter', 'Scheduled',\n",
       "       'Needs Design', 'Debugging', 'Waiting for peer review',\n",
       "       'Development in progress', 'Tested',\n",
       "       'Waiting for integration review', 'Peer review in progress',\n",
       "       'Integration review in progress', 'Testing in progress',\n",
       "       'Waiting for testing', 'Triaged', 'In QE Test',\n",
       "       'Planned Development', 'Pull Request Submitted', 'Automation',\n",
       "       'Needs Scheduling', 'Needs Verification', 'Needs Merge',\n",
       "       'Waiting For User Input', 'Blocked'], dtype=object)"
      ]
     },
     "execution_count": 13,
     "metadata": {},
     "output_type": "execute_result"
    }
   ],
   "source": [
    "df = pd.DataFrame(issues, columns=columns)\n",
    "\n",
    "df['Status'].unique() #fait un distinct en python sur les statuts\"\"\""
   ]
  },
  {
   "cell_type": "code",
   "execution_count": 14,
   "id": "c7320a6a-3321-41d8-855c-34339b5ff61e",
   "metadata": {},
   "outputs": [],
   "source": [
    "columns_to_drop = ['Description_Changed_After_Estimation',  'ID', 'Jira_ID', 'Issue_Key', 'Creator_ID', 'Reporter_ID', 'Assignee_ID', 'Project_ID', 'Sprint_ID',  'URL', 'Title', 'Description', 'Description_Text', 'Description_Code', 'Pull_Request_URL', 'Timespent', 'Story_Point', 'Estimation_Date', 'Resolution_Date', 'Resolution', 'Creation_Date', 'Last_Updated' ]\n",
    "columns_to_hot = ['Type', 'Priority']"
   ]
  },
  {
   "cell_type": "code",
   "execution_count": 15,
   "id": "3889a9b9-8c65-47e2-8ddb-ea54d502476a",
   "metadata": {},
   "outputs": [],
   "source": [
    "def dt_to_qarter(x):\n",
    "    \"\"\" Permet de convertir une date en trimestre \"\"\"\n",
    "    d = datetime.datetime.strptime(str(x), '%Y-%m-%d %H:%M:%S')\n",
    "    return pd.Timestamp(d).quarter\n",
    "\n",
    "def count_words_nlp(x):\n",
    "    \"\"\" Permet de compter le nombre de mot dans un texte via une librairie orientée NLP \"\"\"\n",
    "    words = word_tokenize(x)\n",
    "    return len(words)\n",
    "\n",
    "def count_words_basic(x):\n",
    "    \"\"\" Permet de retourner le nombre de mot dans un texte de façon basic via un split \"\"\"\n",
    "    return len(x.split(' ')) - 1\n",
    "\n",
    "def count_chars(x):\n",
    "    \"\"\" Permet de compter le nombre de caractères dans un texte \"\"\"\n",
    "    return len(x)\n",
    "\n",
    "\n",
    "def check_nan_value(data):\n",
    "    \"\"\" Permet de verifier si des données manquantes sont présente dans le dataset\"\"\"\n",
    "\n",
    "    a = data.isna().sum() / data.shape[0]\n",
    "    r = pd.DataFrame(a, columns=['ratio'])\n",
    "    print(r.sort_values('ratio', ascending=False))"
   ]
  },
  {
   "cell_type": "code",
   "execution_count": 78,
   "id": "55207f51-bf75-47d8-a72b-82bafcd8b85f",
   "metadata": {},
   "outputs": [],
   "source": [
    "# Application du trimestre sur la date de création du ticket\n",
    "df['trimestre_creation'] = df['Creation_Date'].apply(dt_to_qarter)\n",
    "# Application du trimestre sur la date de la dernière modification\n",
    "df['trimestre_last_update'] = df['Last_Updated'].apply(dt_to_qarter)"
   ]
  },
  {
   "cell_type": "code",
   "execution_count": 79,
   "id": "7fa2bb54-8077-4b62-b1ff-37e189a40657",
   "metadata": {},
   "outputs": [],
   "source": [
    "# Nombre de mot dans la description via une lib nlp\n",
    "# Attention temps de traitement assez long\n",
    "\n",
    "df['nb_word_description'] = df['Description'].apply(count_words_nlp)"
   ]
  },
  {
   "cell_type": "code",
   "execution_count": 16,
   "id": "fbe783e5-ffcb-4773-ac14-aea80c111ec1",
   "metadata": {},
   "outputs": [],
   "source": [
    "# encodage des datas\n",
    "\n",
    "\n",
    "cat_encoder = OneHotEncoder()\n",
    "encoded = cat_encoder.fit_transform(df[ columns_to_hot ])\n",
    "output = pd.DataFrame(encoded.toarray(), columns=cat_encoder.get_feature_names_out(), index=df[ columns_to_hot ].index)\n",
    "\n",
    "df = pd.concat([df, output], axis=1)\n",
    "\n",
    "# encodage des labels\n",
    "le = LabelEncoder()\n",
    "le.fit(df['Status'].unique())\n",
    "\n",
    "labels = le.classes_\n",
    "\n",
    "df['target'] = le.transform(df['Status']) #changement du libellé de statut à target"
   ]
  },
  {
   "cell_type": "code",
   "execution_count": 17,
   "id": "dc7dd98a-11ca-4183-9a01-22c1e9374d01",
   "metadata": {},
   "outputs": [],
   "source": [
    "#définition du resultat en fonction des status\n",
    "\n",
    "def convert_target(x):\n",
    "    \"\"\" Permet d'indiquer si le status est considéré comme Ok = 1 ou Down = 0 \"\"\"\n",
    "    return int(labels[x] in ['Done', 'Resolved', 'Complete'])\n",
    "\n",
    "df['target'] = df['target'].apply(convert_target)"
   ]
  },
  {
   "cell_type": "code",
   "execution_count": 92,
   "id": "f639b51e-da2a-45c2-a2f3-65d9b7c39e75",
   "metadata": {},
   "outputs": [],
   "source": [
    "#suppression des colonnes inutiles\n",
    "\n",
    "df_cleaned = df.copy()\n",
    "df_cleaned = df_cleaned.drop(columns_to_hot,axis=1)\n",
    "df_cleaned = df_cleaned.drop(columns_to_drop,axis=1)\n",
    "df_cleaned = df_cleaned.drop(['Status'], axis=1)"
   ]
  },
  {
   "cell_type": "code",
   "execution_count": 93,
   "id": "ebaef631-28d2-4983-854e-426c52a46a24",
   "metadata": {},
   "outputs": [
    {
     "name": "stdout",
     "output_type": "stream",
     "text": [
      "        Resolution_Time_Minutes  lastUpdated_month  description_wordcount  \\\n",
      "0                           0.0                  7                     24   \n",
      "1                           0.0                  6                    178   \n",
      "2                           0.0                  5                     97   \n",
      "3                           0.0                  3                      2   \n",
      "4                           0.0                  3                    222   \n",
      "...                         ...                ...                    ...   \n",
      "458227                 138672.0                  7                     12   \n",
      "458228                 464428.0                  7                     38   \n",
      "458229                  69426.0                  2                     17   \n",
      "458230                 198870.0                  8                      1   \n",
      "458231                   1486.0                  8                      1   \n",
      "\n",
      "        Total_Effort_Minutes  created_month  In_Progress_Minutes  \\\n",
      "0                        0.0              7                  0.0   \n",
      "1                        0.0              6                  0.0   \n",
      "2                        0.0              5                  0.0   \n",
      "3                        0.0              3                  0.0   \n",
      "4                        0.0              3                  0.0   \n",
      "...                      ...            ...                  ...   \n",
      "458227                   0.0              4                  0.0   \n",
      "458228                   0.0              4                  0.0   \n",
      "458229                   0.0              4                  0.0   \n",
      "458230                   0.0              4                  0.0   \n",
      "458231                   0.0              4                  0.0   \n",
      "\n",
      "        Priority_Medium  target  \n",
      "0                   0.0       0  \n",
      "1                   0.0       0  \n",
      "2                   0.0       0  \n",
      "3                   0.0       1  \n",
      "4                   0.0       0  \n",
      "...                 ...     ...  \n",
      "458227              0.0       0  \n",
      "458228              0.0       0  \n",
      "458229              0.0       0  \n",
      "458230              0.0       0  \n",
      "458231              0.0       0  \n",
      "\n",
      "[458232 rows x 8 columns]\n"
     ]
    }
   ],
   "source": [
    "df_cleaned = df_cleaned[['Resolution_Time_Minutes','lastUpdated_month','description_wordcount','Total_Effort_Minutes','created_month','In_Progress_Minutes','Priority_Medium','target']]\n",
    "print(df_cleaned)"
   ]
  },
  {
   "cell_type": "code",
   "execution_count": 94,
   "id": "a8364d93-2f36-4af7-86cf-92153fe36865",
   "metadata": {},
   "outputs": [
    {
     "data": {
      "text/plain": [
       "<Axes: title={'center': 'Avant - count (target)'}, xlabel='target'>"
      ]
     },
     "execution_count": 94,
     "metadata": {},
     "output_type": "execute_result"
    },
    {
     "data": {
      "image/png": "[encoded data removed]",
      "text/plain": [
       "<Figure size 640x480 with 1 Axes>"
      ]
     },
     "metadata": {},
     "output_type": "display_data"
    }
   ],
   "source": [
    "class_0 = df_cleaned[df_cleaned['target'] == 0  ]\n",
    "class_1 = df_cleaned[df_cleaned['target'] == 1  ]\n",
    "\n",
    "class_0_under = class_0.sample( len(class_1) )\n",
    "df_reduced = pd.concat([class_0_under, class_1], axis=0)\n",
    "\n",
    "df_cleaned['target'].value_counts().plot(kind='bar', title='Avant - count (target)')"
   ]
  },
  {
   "cell_type": "code",
   "execution_count": 95,
   "id": "35a10257-7ded-44b4-ab3c-03adb5907b3c",
   "metadata": {},
   "outputs": [
    {
     "data": {
      "text/plain": [
       "<Axes: title={'center': 'Après - count (target)'}, xlabel='target'>"
      ]
     },
     "execution_count": 95,
     "metadata": {},
     "output_type": "execute_result"
    },
    {
     "data": {
      "image/png": "[encoded data removed]",
      "text/plain": [
       "<Figure size 640x480 with 1 Axes>"
      ]
     },
     "metadata": {},
     "output_type": "display_data"
    }
   ],
   "source": [
    "df_reduced['target'].value_counts().plot(kind='bar', title='Après - count (target)')"
   ]
  },
  {
   "cell_type": "code",
   "execution_count": 96,
   "id": "939c2821-f594-4784-971d-5aa4732f2a07",
   "metadata": {},
   "outputs": [
    {
     "name": "stdout",
     "output_type": "stream",
     "text": [
      "Contrôle de la normalisation, est-ce que les données sont bien comprise entre 0 et 1 ?\n",
      "min 0.0\n",
      "max 0.9999999999998683\n"
     ]
    }
   ],
   "source": [
    "scaler =  Normalizer()\n",
    "y = df_reduced['target']\n",
    "X = df_reduced.drop(['target'], axis=1)\n",
    "X_scaled = scaler.fit_transform(X, y)\n",
    "\n",
    "print('Contrôle de la normalisation, est-ce que les données sont bien comprise entre 0 et 1 ?')\n",
    "print('min', np.min(X_scaled))\n",
    "print('max', np.max(X_scaled))"
   ]
  },
  {
   "cell_type": "code",
   "execution_count": 97,
   "id": "d6a59bf6-6809-4045-9b49-6c12b246f770",
   "metadata": {},
   "outputs": [
    {
     "name": "stdout",
     "output_type": "stream",
     "text": [
      "78343\n",
      "6964\n",
      "1741\n"
     ]
    }
   ],
   "source": [
    "X_train, X_test, y_train, y_test = train_test_split(X, y,train_size=0.9)\n",
    "X_test, X_val,  y_test, y_val  = train_test_split(X_test, y_test,train_size=0.8)\n",
    "\n",
    "print(len(X_train))\n",
    "print(len(X_test))\n",
    "print(len(X_val))\n"
   ]
  },
  {
   "cell_type": "code",
   "execution_count": 98,
   "id": "fbeae912-3bd7-4461-8a49-1adda44cbcfa",
   "metadata": {},
   "outputs": [
    {
     "name": "stderr",
     "output_type": "stream",
     "text": [
      "2024/09/11 15:56:20 INFO mlflow.utils.autologging_utils: Created MLflow autologging run with ID 'd2697ea2a7164ce7815471269fd00437', which will track hyperparameters, performance metrics, model artifacts, and lineage information for the current sklearn workflow\n",
      "2024/09/11 15:56:20 WARNING mlflow.utils.autologging_utils: MLflow autologging encountered a warning: \"C:\\Users\\ANTOINE.SARAZIN\\.conda\\envs\\py39\\lib\\site-packages\\mlflow\\types\\utils.py:406: UserWarning: Hint: Inferred schema contains integer column(s). Integer columns in Python cannot represent missing values. If your input data contains missing values at inference time, it will be encoded as floats and will cause a schema enforcement error. The best way to avoid this problem is to infer the model schema based on a realistic data sample (training dataset) that includes missing values. Alternatively, you can declare integer columns as doubles (float64) whenever these columns may have missing values. See `Handling Integers With Missing Values <https://www.mlflow.org/docs/latest/models.html#handling-integers-with-missing-values>`_ for more details.\"\n",
      "2024/09/11 15:56:21 WARNING mlflow.utils.autologging_utils: MLflow autologging encountered a warning: \"C:\\Users\\ANTOINE.SARAZIN\\.conda\\envs\\py39\\lib\\site-packages\\mlflow\\types\\utils.py:406: UserWarning: Hint: Inferred schema contains integer column(s). Integer columns in Python cannot represent missing values. If your input data contains missing values at inference time, it will be encoded as floats and will cause a schema enforcement error. The best way to avoid this problem is to infer the model schema based on a realistic data sample (training dataset) that includes missing values. Alternatively, you can declare integer columns as doubles (float64) whenever these columns may have missing values. See `Handling Integers With Missing Values <https://www.mlflow.org/docs/latest/models.html#handling-integers-with-missing-values>`_ for more details.\"\n",
      "2024/09/11 15:56:25 WARNING mlflow.utils.autologging_utils: MLflow autologging encountered a warning: \"C:\\Users\\ANTOINE.SARAZIN\\.conda\\envs\\py39\\lib\\site-packages\\mlflow\\types\\utils.py:406: UserWarning: Hint: Inferred schema contains integer column(s). Integer columns in Python cannot represent missing values. If your input data contains missing values at inference time, it will be encoded as floats and will cause a schema enforcement error. The best way to avoid this problem is to infer the model schema based on a realistic data sample (training dataset) that includes missing values. Alternatively, you can declare integer columns as doubles (float64) whenever these columns may have missing values. See `Handling Integers With Missing Values <https://www.mlflow.org/docs/latest/models.html#handling-integers-with-missing-values>`_ for more details.\"\n",
      "2024/09/11 15:56:25 WARNING mlflow.utils.autologging_utils: MLflow autologging encountered a warning: \"C:\\Users\\ANTOINE.SARAZIN\\.conda\\envs\\py39\\lib\\site-packages\\mlflow\\types\\utils.py:406: UserWarning: Hint: Inferred schema contains integer column(s). Integer columns in Python cannot represent missing values. If your input data contains missing values at inference time, it will be encoded as floats and will cause a schema enforcement error. The best way to avoid this problem is to infer the model schema based on a realistic data sample (training dataset) that includes missing values. Alternatively, you can declare integer columns as doubles (float64) whenever these columns may have missing values. See `Handling Integers With Missing Values <https://www.mlflow.org/docs/latest/models.html#handling-integers-with-missing-values>`_ for more details.\"\n"
     ]
    },
    {
     "name": "stdout",
     "output_type": "stream",
     "text": [
      "0.7245835726593911\n",
      "0.7242963813900057\n"
     ]
    },
    {
     "data": {
      "image/png": "[encoded data removed]",
      "text/plain": [
       "<Figure size 640x480 with 2 Axes>"
      ]
     },
     "metadata": {},
     "output_type": "display_data"
    }
   ],
   "source": [
    "#model tree\n",
    "\n",
    "dtree_model = DecisionTreeClassifier(max_depth = 5).fit(X_train, y_train) \n",
    "dtree_predictions = dtree_model.predict(X_test)  \n",
    "dtree_Valpredictions = dtree_model.predict(X_val)  \n",
    "\n",
    "print(accuracy_score(y_test,dtree_predictions))\n",
    "print(accuracy_score(y_val,dtree_Valpredictions))\n",
    "\n",
    "cm_dtree = confusion_matrix(y_test, dtree_predictions) \n",
    "cm_dtree_display = ConfusionMatrixDisplay(confusion_matrix = cm_dtree, display_labels = [0,1])\n",
    "\n",
    "cm_dtree_display.plot()\n",
    "plt.show()"
   ]
  },
  {
   "cell_type": "code",
   "execution_count": 63,
   "id": "8d3835a2-a3ea-4f4d-9285-bbe87be2b005",
   "metadata": {},
   "outputs": [
    {
     "name": "stdout",
     "output_type": "stream",
     "text": [
      "Accuracy : 0.8322802986789202, missclass : 0.16771970132107983\n"
     ]
    }
   ],
   "source": [
    "accuracy_dtree = np.trace(cm_dtree) / float(np.sum(cm_dtree))\n",
    "misclass_dtree = 1 - accuracy_dtree\n",
    "print(f\"Accuracy : {accuracy_dtree}, missclass : {misclass_dtree}\")"
   ]
  },
  {
   "cell_type": "code",
   "execution_count": 70,
   "id": "43cbf8cd-489c-4b46-a8f9-c1c54420d3c2",
   "metadata": {},
   "outputs": [
    {
     "name": "stdout",
     "output_type": "stream",
     "text": [
      "0.651062607696726\n",
      "0.6542217116599656\n"
     ]
    }
   ],
   "source": [
    "lg_model = LogisticRegression(random_state=123, solver='liblinear', max_iter=1000).fit(X_train, y_train)\n",
    "lg_predictions = lg_model.predict(X_test)\n",
    "lg_predictionsVal = lg_model.predict(X_val)\n",
    "print(accuracy_score(y_test,lg_predictions))\n",
    "print(accuracy_score(y_val,lg_predictionsVal))\n"
   ]
  },
  {
   "cell_type": "code",
   "execution_count": null,
   "id": "30239b98-3afc-407a-8b6d-284a7b8e1b44",
   "metadata": {},
   "outputs": [],
   "source": [
    "from sklearn.svm import SVC\n",
    "from sklearn.preprocessing import StandardScaler\n",
    "\n",
    "svm_model = SVC().fit(X_train, y_train)\n",
    "svm_prediction = svm_model.predict(X_test)\n",
    "svm_Valprediction = svm_model.predict(XVal)\n",
    "\n",
    "print(accuracy_score(y_test,svm_prediction))\n",
    "print(accuracy_score(yVal,svm_Valprediction))"
   ]
  },
  {
   "cell_type": "code",
   "execution_count": 66,
   "id": "a1330c88-f61d-4f4a-b90a-3720bfc44842",
   "metadata": {},
   "outputs": [
    {
     "name": "stdout",
     "output_type": "stream",
     "text": [
      "0.9231763354394027\n",
      "0.9103963239517519\n"
     ]
    },
    {
     "data": {
      "image/png": "[encoded data removed]",
      "text/plain": [
       "<Figure size 640x480 with 2 Axes>"
      ]
     },
     "metadata": {},
     "output_type": "display_data"
    },
    {
     "data": {
      "image/png": "[encoded data removed]",
      "text/plain": [
       "<Figure size 640x480 with 2 Axes>"
      ]
     },
     "metadata": {},
     "output_type": "display_data"
    }
   ],
   "source": [
    "xgbmodel = XGBClassifier()\n",
    "\n",
    "\n",
    "xgbmodel.fit(X_train, y_train)\n",
    "xg_prediction = xgbmodel.predict(X_test)\n",
    "xg_predictionVal = xgbmodel.predict(X_val)\n",
    "\n",
    "#yval_predX = model.predict(Xval)\n",
    "print(accuracy_score(y_test,xg_prediction))\n",
    "print(accuracy_score(y_val,xg_predictionVal))\n",
    "\n",
    "\n",
    "cm_xgb = confusion_matrix(y_test, xg_prediction) \n",
    "cm_xgb_display = ConfusionMatrixDisplay(confusion_matrix = cm_xgb, display_labels = [0,1])\n",
    "\n",
    "cm_xgb_display.plot()\n",
    "plt.show()\n",
    "\n",
    "cm_xgbVal = confusion_matrix(y_val, xg_predictionVal) \n",
    "cm_xgb_displayVal = ConfusionMatrixDisplay(confusion_matrix = cm_xgbVal, display_labels = [0,1])\n",
    "\n",
    "cm_xgb_displayVal.plot()\n",
    "plt.show()"
   ]
  },
  {
   "cell_type": "code",
   "execution_count": 67,
   "id": "ec83b3a5-9dd2-4d04-b91a-5ffd6e9cf1f6",
   "metadata": {},
   "outputs": [
    {
     "name": "stdout",
     "output_type": "stream",
     "text": [
      "0.925473865594486\n",
      "0.9103963239517519\n"
     ]
    },
    {
     "data": {
      "image/png": "[encoded data removed]",
      "text/plain": [
       "<Figure size 640x480 with 2 Axes>"
      ]
     },
     "metadata": {},
     "output_type": "display_data"
    },
    {
     "data": {
      "image/png": "[encoded data removed]",
      "text/plain": [
       "<Figure size 640x480 with 2 Axes>"
      ]
     },
     "metadata": {},
     "output_type": "display_data"
    }
   ],
   "source": [
    "\n",
    "rfcmodel = RandomForestClassifier().fit(X_train, y_train)\n",
    "\n",
    "\n",
    "\n",
    "rfc_prediction = rfcmodel.predict(X_test)\n",
    "rfc_predictionVal = rfcmodel.predict(X_val)\n",
    "\n",
    "#yval_predX = model.predict(Xval)\n",
    "print(accuracy_score(y_test,rfc_prediction))\n",
    "print(accuracy_score(y_val,rfc_predictionVal))\n",
    "\n",
    "\n",
    "cm_rfc = confusion_matrix(y_test, rfc_prediction) \n",
    "cm_rfc_display = ConfusionMatrixDisplay(confusion_matrix = cm_rfc, display_labels = [0,1])\n",
    "\n",
    "cm_rfc_display.plot()\n",
    "plt.show()\n",
    "\n",
    "\n",
    "cm_rfcVal = confusion_matrix(y_val, rfc_predictionVal) \n",
    "cm_rfc_displayVal = ConfusionMatrixDisplay(confusion_matrix = cm_rfcVal, display_labels = [0,1])\n",
    "\n",
    "cm_rfc_displayVal.plot()\n",
    "plt.show()"
   ]
  },
  {
   "cell_type": "code",
   "execution_count": 120,
   "id": "3bc41e60-bc0b-45bd-8209-267cd96da592",
   "metadata": {},
   "outputs": [],
   "source": [
    "\n"
   ]
  },
  {
   "cell_type": "code",
   "execution_count": 99,
   "id": "23212866-4434-42c4-83b4-0b5620ca387c",
   "metadata": {},
   "outputs": [
    {
     "name": "stdout",
     "output_type": "stream",
     "text": [
      "C:\\Users\\ANTOINE.SARAZIN\\Desktop\\machinelearning\\MLOPS\n"
     ]
    }
   ],
   "source": [
    "gen_dirname = os.path.dirname(os.path.abspath('C:\\\\Users\\\\ANTOINE.SARAZIN\\\\Desktop\\\\machinelearning\\\\MLOPS\\\\t'))\n",
    "print(gen_dirname)"
   ]
  },
  {
   "cell_type": "code",
   "execution_count": 100,
   "id": "56404ff9-4ccd-4b9f-abe2-bbb13d9ff23b",
   "metadata": {},
   "outputs": [],
   "source": [
    "list_models = []"
   ]
  },
  {
   "cell_type": "code",
   "execution_count": 82,
   "id": "577159bf-6f1c-4bf4-be07-aab419d6b776",
   "metadata": {},
   "outputs": [],
   "source": [
    "# Define the model hyperparameters\n",
    "params_xgb = {\n",
    "\n",
    "}\n",
    "\n",
    "# Create model instance\n",
    "bst = XGBClassifier(**params_xgb)\n",
    "\n",
    "# Register in list \n",
    "list_models.append([\"XGBoost3\",params_xgb,bst,mlflow.xgboost.autolog])#,model_info])"
   ]
  },
  {
   "cell_type": "code",
   "execution_count": 101,
   "id": "6fcc02f0-c167-49d6-898b-be52a27abeac",
   "metadata": {},
   "outputs": [],
   "source": [
    "type_of_dataset = \"Jira3\"\n",
    "\n",
    "params_lr = {\n",
    "    \"max_depth\": 5,\n",
    "}\n",
    "\n",
    "# Create model instance\n",
    "lr = DecisionTreeClassifier(**params_lr)\n",
    "\n",
    "# Register in list \n",
    "list_models.append([\"decisionTreeCL\",params_lr,lr,mlflow.sklearn.autolog])#,model_info])\n",
    "\n",
    "\n",
    "# Define the model hyperparameters\n",
    "params_lr = {\n",
    "    \"solver\": \"lbfgs\",\n",
    "    \"max_iter\": 1000,\n",
    "    \"multi_class\": \"auto\",\n",
    "    \"random_state\": 8888,\n",
    "}\n",
    "\n",
    "# Create model instance\n",
    "lr = LogisticRegression(**params_lr)\n",
    "\n",
    "# Register in list \n",
    "list_models.append([\"LogisticRegression\",params_lr,lr,mlflow.sklearn.autolog])#,model_info])\n",
    "\n",
    "# Define the model hyperparameters\n",
    "params_xgb = {\n",
    "    \"n_estimators\":5,\n",
    "    \"max_depth\":10,\n",
    "    \"learning_rate\": 0.3,\n",
    "    \"objective\": \"binary:logistic\",\n",
    "}\n",
    "\n",
    "# Create model instance\n",
    "bst = XGBClassifier(**params_xgb)\n",
    "\n",
    "# Register in list \n",
    "list_models.append([\"XGBoost2\",params_xgb,bst,mlflow.xgboost.autolog])#,model_info])\n",
    "\n",
    "from sklearn.ensemble import RandomForestClassifier\n",
    "params_rf = {\n",
    "    \"n_estimators\":100,\n",
    "    \"criterion\":\"log_loss\",\n",
    "    \"max_leaf_nodes\":5\n",
    "}\n",
    "rf = RandomForestClassifier(**params_rf)\n",
    "list_models.append([\"RandomForest3\",params_rf,rf,mlflow.sklearn.autolog])#,model_info])def eval_metrics(actual, preds):\n",
    "\n",
    "def eval_metrics(actual, preds):\n",
    "    accuracy = accuracy_score(actual, preds)\n",
    "    recall = recall_score(actual, preds)\n",
    "    precision = precision_score(actual, preds)\n",
    "    cnf_matr = confusion_matrix(actual,preds)\n",
    "    cnf_matr_nm = cnf_matr.astype('float') / cnf_matr.sum(axis=1)[:, np.newaxis]\n",
    "\n",
    "    return accuracy, recall, precision, cnf_matr_nm"
   ]
  },
  {
   "cell_type": "code",
   "execution_count": 102,
   "id": "aaaef9c4-4cef-483d-9f57-43ff8a5e31c0",
   "metadata": {},
   "outputs": [
    {
     "name": "stderr",
     "output_type": "stream",
     "text": [
      "2024/09/11 15:56:56 INFO mlflow.tracking.fluent: Experiment with name 'projetJira3' does not exist. Creating a new experiment.\n",
      "2024/09/11 15:56:56 WARNING mlflow.utils.autologging_utils: You are using an unsupported version of sklearn. If you encounter errors during autologging, try upgrading / downgrading sklearn to a supported version, or try upgrading MLflow.\n",
      "2024/09/11 15:56:56 WARNING mlflow.utils.autologging_utils: MLflow autologging encountered a warning: \"C:\\Users\\ANTOINE.SARAZIN\\.conda\\envs\\py39\\lib\\site-packages\\mlflow\\types\\utils.py:406: UserWarning: Hint: Inferred schema contains integer column(s). Integer columns in Python cannot represent missing values. If your input data contains missing values at inference time, it will be encoded as floats and will cause a schema enforcement error. The best way to avoid this problem is to infer the model schema based on a realistic data sample (training dataset) that includes missing values. Alternatively, you can declare integer columns as doubles (float64) whenever these columns may have missing values. See `Handling Integers With Missing Values <https://www.mlflow.org/docs/latest/models.html#handling-integers-with-missing-values>`_ for more details.\"\n",
      "2024/09/11 15:56:57 WARNING mlflow.utils.autologging_utils: MLflow autologging encountered a warning: \"C:\\Users\\ANTOINE.SARAZIN\\.conda\\envs\\py39\\lib\\site-packages\\mlflow\\types\\utils.py:406: UserWarning: Hint: Inferred schema contains integer column(s). Integer columns in Python cannot represent missing values. If your input data contains missing values at inference time, it will be encoded as floats and will cause a schema enforcement error. The best way to avoid this problem is to infer the model schema based on a realistic data sample (training dataset) that includes missing values. Alternatively, you can declare integer columns as doubles (float64) whenever these columns may have missing values. See `Handling Integers With Missing Values <https://www.mlflow.org/docs/latest/models.html#handling-integers-with-missing-values>`_ for more details.\"\n",
      "2024/09/11 15:57:00 WARNING mlflow.utils.autologging_utils: You are using an unsupported version of sklearn. If you encounter errors during autologging, try upgrading / downgrading sklearn to a supported version, or try upgrading MLflow.\n",
      "2024/09/11 15:57:00 WARNING mlflow.utils.autologging_utils: MLflow autologging encountered a warning: \"C:\\Users\\ANTOINE.SARAZIN\\.conda\\envs\\py39\\lib\\site-packages\\mlflow\\types\\utils.py:406: UserWarning: Hint: Inferred schema contains integer column(s). Integer columns in Python cannot represent missing values. If your input data contains missing values at inference time, it will be encoded as floats and will cause a schema enforcement error. The best way to avoid this problem is to infer the model schema based on a realistic data sample (training dataset) that includes missing values. Alternatively, you can declare integer columns as doubles (float64) whenever these columns may have missing values. See `Handling Integers With Missing Values <https://www.mlflow.org/docs/latest/models.html#handling-integers-with-missing-values>`_ for more details.\"\n",
      "2024/09/11 15:57:00 WARNING mlflow.utils.autologging_utils: You are using an unsupported version of sklearn. If you encounter errors during autologging, try upgrading / downgrading sklearn to a supported version, or try upgrading MLflow.\n",
      "2024/09/11 15:57:00 WARNING mlflow.utils.autologging_utils: MLflow autologging encountered a warning: \"C:\\Users\\ANTOINE.SARAZIN\\.conda\\envs\\py39\\lib\\site-packages\\mlflow\\types\\utils.py:406: UserWarning: Hint: Inferred schema contains integer column(s). Integer columns in Python cannot represent missing values. If your input data contains missing values at inference time, it will be encoded as floats and will cause a schema enforcement error. The best way to avoid this problem is to infer the model schema based on a realistic data sample (training dataset) that includes missing values. Alternatively, you can declare integer columns as doubles (float64) whenever these columns may have missing values. See `Handling Integers With Missing Values <https://www.mlflow.org/docs/latest/models.html#handling-integers-with-missing-values>`_ for more details.\"\n",
      "C:\\Users\\ANTOINE.SARAZIN\\.conda\\envs\\py39\\lib\\site-packages\\sklearn\\linear_model\\_logistic.py:1247: FutureWarning: 'multi_class' was deprecated in version 1.5 and will be removed in 1.7. From then on, it will always use 'multinomial'. Leave it to its default value to avoid this warning.\n",
      "  warnings.warn(\n",
      "2024/09/11 15:57:01 WARNING mlflow.utils.autologging_utils: MLflow autologging encountered a warning: \"C:\\Users\\ANTOINE.SARAZIN\\.conda\\envs\\py39\\lib\\site-packages\\mlflow\\types\\utils.py:406: UserWarning: Hint: Inferred schema contains integer column(s). Integer columns in Python cannot represent missing values. If your input data contains missing values at inference time, it will be encoded as floats and will cause a schema enforcement error. The best way to avoid this problem is to infer the model schema based on a realistic data sample (training dataset) that includes missing values. Alternatively, you can declare integer columns as doubles (float64) whenever these columns may have missing values. See `Handling Integers With Missing Values <https://www.mlflow.org/docs/latest/models.html#handling-integers-with-missing-values>`_ for more details.\"\n",
      "2024/09/11 15:57:04 WARNING mlflow.utils.autologging_utils: You are using an unsupported version of sklearn. If you encounter errors during autologging, try upgrading / downgrading sklearn to a supported version, or try upgrading MLflow.\n",
      "2024/09/11 15:57:05 WARNING mlflow.utils.autologging_utils: MLflow autologging encountered a warning: \"C:\\Users\\ANTOINE.SARAZIN\\.conda\\envs\\py39\\lib\\site-packages\\mlflow\\types\\utils.py:406: UserWarning: Hint: Inferred schema contains integer column(s). Integer columns in Python cannot represent missing values. If your input data contains missing values at inference time, it will be encoded as floats and will cause a schema enforcement error. The best way to avoid this problem is to infer the model schema based on a realistic data sample (training dataset) that includes missing values. Alternatively, you can declare integer columns as doubles (float64) whenever these columns may have missing values. See `Handling Integers With Missing Values <https://www.mlflow.org/docs/latest/models.html#handling-integers-with-missing-values>`_ for more details.\"\n",
      "2024/09/11 15:57:05 WARNING mlflow.utils.autologging_utils: MLflow autologging encountered a warning: \"C:\\Users\\ANTOINE.SARAZIN\\.conda\\envs\\py39\\lib\\site-packages\\mlflow\\types\\utils.py:406: UserWarning: Hint: Inferred schema contains integer column(s). Integer columns in Python cannot represent missing values. If your input data contains missing values at inference time, it will be encoded as floats and will cause a schema enforcement error. The best way to avoid this problem is to infer the model schema based on a realistic data sample (training dataset) that includes missing values. Alternatively, you can declare integer columns as doubles (float64) whenever these columns may have missing values. See `Handling Integers With Missing Values <https://www.mlflow.org/docs/latest/models.html#handling-integers-with-missing-values>`_ for more details.\"\n",
      "2024/09/11 15:57:05 WARNING mlflow.utils.autologging_utils: MLflow autologging encountered a warning: \"C:\\Users\\ANTOINE.SARAZIN\\.conda\\envs\\py39\\lib\\site-packages\\xgboost\\core.py:160: UserWarning: [15:57:05] WARNING: C:\\buildkite-agent\\builds\\buildkite-windows-cpu-autoscaling-group-i-0750514818a16474a-1\\xgboost\\xgboost-ci-windows\\src\\c_api\\c_api.cc:1240: Saving into deprecated binary model format, please consider using `json` or `ubj`. Model format will default to JSON in XGBoost 2.2 if not specified.\"\n",
      "2024/09/11 15:57:09 WARNING mlflow.utils.autologging_utils: MLflow autologging encountered a warning: \"C:\\Users\\ANTOINE.SARAZIN\\.conda\\envs\\py39\\lib\\site-packages\\mlflow\\types\\utils.py:406: UserWarning: Hint: Inferred schema contains integer column(s). Integer columns in Python cannot represent missing values. If your input data contains missing values at inference time, it will be encoded as floats and will cause a schema enforcement error. The best way to avoid this problem is to infer the model schema based on a realistic data sample (training dataset) that includes missing values. Alternatively, you can declare integer columns as doubles (float64) whenever these columns may have missing values. See `Handling Integers With Missing Values <https://www.mlflow.org/docs/latest/models.html#handling-integers-with-missing-values>`_ for more details.\"\n",
      "2024/09/11 15:57:09 WARNING mlflow.utils.autologging_utils: You are using an unsupported version of sklearn. If you encounter errors during autologging, try upgrading / downgrading sklearn to a supported version, or try upgrading MLflow.\n",
      "2024/09/11 15:57:09 WARNING mlflow.utils.autologging_utils: MLflow autologging encountered a warning: \"C:\\Users\\ANTOINE.SARAZIN\\.conda\\envs\\py39\\lib\\site-packages\\mlflow\\types\\utils.py:406: UserWarning: Hint: Inferred schema contains integer column(s). Integer columns in Python cannot represent missing values. If your input data contains missing values at inference time, it will be encoded as floats and will cause a schema enforcement error. The best way to avoid this problem is to infer the model schema based on a realistic data sample (training dataset) that includes missing values. Alternatively, you can declare integer columns as doubles (float64) whenever these columns may have missing values. See `Handling Integers With Missing Values <https://www.mlflow.org/docs/latest/models.html#handling-integers-with-missing-values>`_ for more details.\"\n",
      "2024/09/11 15:57:13 WARNING mlflow.utils.autologging_utils: MLflow autologging encountered a warning: \"C:\\Users\\ANTOINE.SARAZIN\\.conda\\envs\\py39\\lib\\site-packages\\mlflow\\types\\utils.py:406: UserWarning: Hint: Inferred schema contains integer column(s). Integer columns in Python cannot represent missing values. If your input data contains missing values at inference time, it will be encoded as floats and will cause a schema enforcement error. The best way to avoid this problem is to infer the model schema based on a realistic data sample (training dataset) that includes missing values. Alternatively, you can declare integer columns as doubles (float64) whenever these columns may have missing values. See `Handling Integers With Missing Values <https://www.mlflow.org/docs/latest/models.html#handling-integers-with-missing-values>`_ for more details.\"\n",
      "2024/09/11 15:57:16 WARNING mlflow.utils.autologging_utils: You are using an unsupported version of sklearn. If you encounter errors during autologging, try upgrading / downgrading sklearn to a supported version, or try upgrading MLflow.\n",
      "2024/09/11 15:57:16 WARNING mlflow.utils.autologging_utils: MLflow autologging encountered a warning: \"C:\\Users\\ANTOINE.SARAZIN\\.conda\\envs\\py39\\lib\\site-packages\\mlflow\\types\\utils.py:406: UserWarning: Hint: Inferred schema contains integer column(s). Integer columns in Python cannot represent missing values. If your input data contains missing values at inference time, it will be encoded as floats and will cause a schema enforcement error. The best way to avoid this problem is to infer the model schema based on a realistic data sample (training dataset) that includes missing values. Alternatively, you can declare integer columns as doubles (float64) whenever these columns may have missing values. See `Handling Integers With Missing Values <https://www.mlflow.org/docs/latest/models.html#handling-integers-with-missing-values>`_ for more details.\"\n"
     ]
    }
   ],
   "source": [
    "# Set our tracking server uri for logging\n",
    "mlflow.set_tracking_uri(uri=\"http://127.0.0.1:5000\") # take care of having the same adress as the one gave when you launched the server\n",
    "\n",
    "# Create a new MLflow Experiment\n",
    "mlflow.set_experiment(\"projetJira3\")\n",
    "\n",
    "\n",
    "for name,params,model,log_model in list_models:\n",
    "\n",
    "    # Start an MLflow run\n",
    "    with mlflow.start_run():\n",
    "        \n",
    "        log_model()\n",
    "\n",
    "        # Log the hyperparameters\n",
    "        mlflow.log_params(params)\n",
    "\n",
    "        # Fit the model on training data\n",
    "        model.fit(X_train, y_train)\n",
    "\n",
    "        log_model(disable=True)\n",
    "        # Final evaluation on the training sample\n",
    "        preds_train = model.predict(X_train)\n",
    "\n",
    "        # Log the train metric\n",
    "        accuracy_train, recall_train, precision_train, cnf_matr_train = eval_metrics(y_train,preds_train)\n",
    "        mlflow.log_metric(\"accuracy_train\", accuracy_train)\n",
    "        mlflow.log_metric(\"recall_train\", recall_train)\n",
    "        mlflow.log_metric(\"precision_train\", precision_train)\n",
    "\n",
    "        fig, ax = plt.subplots()\n",
    "\n",
    "        sns.heatmap(cnf_matr_train, annot=True)\n",
    "        ax.set_title(\"Normalized confusion Matrix Train Set\", fontsize=14)\n",
    "        plt.xlabel('Predicted Label')\n",
    "        plt.ylabel('True label')\n",
    "        plt.tight_layout()\n",
    "        plt.close(fig)\n",
    "\n",
    "        mlflow.log_figure(fig, \"normalized_confusion_matrix_train.png\")\n",
    "        \n",
    "        log_model(disable=False)\n",
    "        # Make some prediction on the test set\n",
    "        preds_test = model.predict(X_test)\n",
    "\n",
    "        # Log the tests metric\n",
    "        accuracy_test, recall_test, precision_test, cnf_matr_test = eval_metrics(y_test,preds_test)\n",
    "        mlflow.log_metric(\"accuracy_test\", accuracy_test)\n",
    "        mlflow.log_metric(\"recall_test\", recall_test)\n",
    "        mlflow.log_metric(\"precision_test\", precision_test)\n",
    "        fig, ax = plt.subplots()\n",
    "\n",
    "        sns.heatmap(cnf_matr_test, annot=True)\n",
    "        ax.set_title(\"Normalized confusion Matrix Test Set\", fontsize=14)\n",
    "        plt.xlabel('Predicted Label')\n",
    "        plt.ylabel('True label')\n",
    "        plt.tight_layout()\n",
    "        plt.close(fig)\n",
    "\n",
    "        mlflow.log_figure(fig, \"normalized_confusion_matrix_test.png\")\n",
    "\n",
    "        # Set a tag that we can use to remind ourselves what this run was for\n",
    "        mlflow.set_tag(\"Training Info\", f\"{name} model training for {type_of_dataset} titanic dataset\")\n",
    "\n",
    "        # Every run is tagged with \n",
    "        mlflow.set_tag(\"mlflow.runName\", f\"{name}\")"
   ]
  },
  {
   "cell_type": "code",
   "execution_count": 103,
   "id": "a7f1cebb-af59-44bd-89c6-e1bcc4ad7905",
   "metadata": {},
   "outputs": [
    {
     "data": {
      "application/vnd.jupyter.widget-view+json": {
       "model_id": "867c0f42ecce4f9db98d4181d24f16ef",
       "version_major": 2,
       "version_minor": 0
      },
      "text/plain": [
       "Downloading artifacts:   0%|          | 0/9 [00:00<?, ?it/s]"
      ]
     },
     "metadata": {},
     "output_type": "display_data"
    }
   ],
   "source": [
    "model_name = \"XGBOOST_REEDUCEDFEATURE\" # To be determined\n",
    "model_version = \"1\" # Also to be determined\n",
    "\n",
    "# Load saved model and make predictions\n",
    "model_uri = f\"models:/{model_name}/{model_version}\"\n",
    "loaded_model = mlflow.pyfunc.load_model(model_uri)"
   ]
  },
  {
   "cell_type": "code",
   "execution_count": 108,
   "id": "830f774e-d24d-4a98-b80a-61d6e742bcec",
   "metadata": {},
   "outputs": [
    {
     "name": "stdout",
     "output_type": "stream",
     "text": [
      "        Resolution_Time_Minutes  lastUpdated_month  description_wordcount  \\\n",
      "356852                   3020.0                 10                    121   \n",
      "236365                   1404.0                  8                   1261   \n",
      "64871                       0.0                  1                    159   \n",
      "305555                 909480.0                  1                     11   \n",
      "226608                 201467.0                  2                     48   \n",
      "...                         ...                ...                    ...   \n",
      "221319                  10158.0                 10                     70   \n",
      "235538                   1385.0                 11                     18   \n",
      "230840                2105845.0                  5                      1   \n",
      "224379                    855.0                  3                     74   \n",
      "231402                 125472.0                  3                    802   \n",
      "\n",
      "        Total_Effort_Minutes  created_month  In_Progress_Minutes  \\\n",
      "356852                1648.0             10               1638.0   \n",
      "236365                1139.0              8                  6.0   \n",
      "64871                    0.0              1                  0.0   \n",
      "305555                   0.0              8                  0.0   \n",
      "226608                   0.0             10                  0.0   \n",
      "...                      ...            ...                  ...   \n",
      "221319               10158.0              9               1026.0   \n",
      "235538                 612.0             11                  0.0   \n",
      "230840               22981.0              5              12735.0   \n",
      "224379                 837.0              3                  2.0   \n",
      "231402              113744.0             12              25987.0   \n",
      "\n",
      "        Priority_Medium  \n",
      "356852              0.0  \n",
      "236365              0.0  \n",
      "64871               0.0  \n",
      "305555              0.0  \n",
      "226608              0.0  \n",
      "...                 ...  \n",
      "221319              0.0  \n",
      "235538              0.0  \n",
      "230840              0.0  \n",
      "224379              0.0  \n",
      "231402              0.0  \n",
      "\n",
      "[1741 rows x 7 columns]\n"
     ]
    }
   ],
   "source": [
    "print(X_val)"
   ]
  },
  {
   "cell_type": "code",
   "execution_count": 157,
   "id": "40941cc9-1a23-4774-9046-7a5fa255cc71",
   "metadata": {},
   "outputs": [
    {
     "name": "stdout",
     "output_type": "stream",
     "text": [
      "good\n"
     ]
    }
   ],
   "source": [
    "Resolution_Time_Minutes =50000.0\n",
    "lastUpdated_month = 4 \n",
    "description_wordcount = 5000\n",
    "Total_Effort_Minutes = 550.0\n",
    "created_month = 1\n",
    "In_Progress_Minutes = 5000.0 \n",
    "Priority_Medium =20.0\n",
    "\n",
    "jira_data = pd.DataFrame([[Resolution_Time_Minutes,lastUpdated_month,description_wordcount,Total_Effort_Minutes,created_month,In_Progress_Minutes,Priority_Medium]],columns=[\"Resolution_Time_Minutes\",\"lastUpdated_month\",\"description_wordcount\",\"Total_Effort_Minutes\",\"created_month\",\"In_Progress_Minutes\",\"Priority_Medium\"])\n",
    "\n",
    "predict_result = loaded_model.predict(jira_data)\n",
    "\n",
    "\n",
    "if predict_result == 0:\n",
    "    print(\"not good\")\n",
    "else:\n",
    "    print(\"good\")"
   ]
  }
 ],
 "metadata": {
  "kernelspec": {
   "display_name": "Python 3 (ipykernel)",
   "language": "python",
   "name": "python3"
  },
  "language_info": {
   "codemirror_mode": {
    "name": "ipython",
    "version": 3
   },
   "file_extension": ".py",
   "mimetype": "text/x-python",
   "name": "python",
   "nbconvert_exporter": "python",
   "pygments_lexer": "ipython3",
   "version": "3.9.19"
  }
 },
 "nbformat": 4,
 "nbformat_minor": 5
}
